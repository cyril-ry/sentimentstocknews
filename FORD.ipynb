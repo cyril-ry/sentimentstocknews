{
 "cells": [
  {
   "cell_type": "markdown",
   "metadata": {},
   "source": [
    "# Можем ли мы заработать с помощью анализа новостей о компаниях? (Ответ: почти)\n",
    "Предсказать сколько будет стоить та или иная бумага наперед невозможно, так как стоимость зависит от постоянно поступающей информации.\n",
    "Однако, мы можем попытаться выделить определенные тренды связанные с восприятием компании обществом. И на основе их делать наши ставки (цена акции поднимется в ближайшем будущем). Тренды как раз таки устойчивы во времени. И мы анализируем не цену акции во времени, а общее мнение о компании во времени. \n",
    "\n",
    "Мы, с силу ограничений api, будем смотреть новости за первые 15 дней, оценивать насколько они положительны, предполагать, что мы инвестируем если новости положительные, шортим, если новости отрицательные, а потом смотрим как рынок сыграет за оставшиеся 15 дней.\n"
   ]
  },
  {
   "cell_type": "markdown",
   "metadata": {},
   "source": [
    "![alt text](https://images.unsplash.com/photo-1549488799-496ecb87b5b3?ixlib=rb-1.2.1&ixid=eyJhcHBfaWQiOjEyMDd9&auto=format&fit=crop&w=900&q=60)"
   ]
  },
  {
   "cell_type": "code",
   "execution_count": 1,
   "metadata": {},
   "outputs": [],
   "source": [
    "import pandas as pd \n",
    "import numpy as np\n",
    "import requests\n",
    "from bs4 import BeautifulSoup\n",
    "\n"
   ]
  },
  {
   "cell_type": "markdown",
   "metadata": {},
   "source": [
    "## Парсим новости\n",
    "из открытых источников"
   ]
  },
  {
   "cell_type": "markdown",
   "metadata": {},
   "source": [
    "Достаем новости с помощью api"
   ]
  },
  {
   "cell_type": "code",
   "execution_count": 205,
   "metadata": {},
   "outputs": [],
   "source": [
    "def getnewsabout(company,ondate=\"2019-04-10\"):\n",
    "    url = \" https://newsapi.org/v2/everything?q=\"+company+\"&from=\"+ondate+\"&to=\"+ondate+\"&sortBy=popularity&apiKey=48a276e66a4f4c51a886044af732a66a\"\n",
    "    params = {\n",
    "        'format': 'json'\n",
    "            }\n",
    "\n",
    "    r = requests.get(url, params=params)\n",
    "    q = r.json()\n",
    "    #return q['articles'][1]['title']\n",
    "    return q['articles']\n",
    "    #return q\n",
    "\n"
   ]
  },
  {
   "cell_type": "markdown",
   "metadata": {},
   "source": [
    "### К примеру вот так выглядят новости о компании Ford"
   ]
  },
  {
   "cell_type": "code",
   "execution_count": 3,
   "metadata": {},
   "outputs": [
    {
     "data": {
      "text/plain": [
       "20"
      ]
     },
     "execution_count": 3,
     "metadata": {},
     "output_type": "execute_result"
    }
   ],
   "source": [
    "ford=getnewsabout(\"Ford\",\"2019-04-09\")\n",
    "len(ford)"
   ]
  },
  {
   "cell_type": "markdown",
   "metadata": {},
   "source": [
    "Как мы видим о компании написали 20 раз в эту дату. "
   ]
  },
  {
   "cell_type": "code",
   "execution_count": 4,
   "metadata": {},
   "outputs": [
    {
     "data": {
      "text/plain": [
       "20"
      ]
     },
     "execution_count": 4,
     "metadata": {},
     "output_type": "execute_result"
    }
   ],
   "source": [
    "fordpd= pd.DataFrame(columns=['date','author', 'title', 'description', 'publishedAt','content' ])\n",
    "len(ford)"
   ]
  },
  {
   "cell_type": "code",
   "execution_count": 5,
   "metadata": {},
   "outputs": [],
   "source": [
    "for i in range(0,len(ford)):\n",
    "    fordpd.loc[-i] = [\"2019-04-09\", ford[i]['author'],ford[i]['title'],ford[i]['description'],ford[i]['publishedAt'],ford[i]['content']]\n"
   ]
  },
  {
   "cell_type": "code",
   "execution_count": 6,
   "metadata": {},
   "outputs": [],
   "source": [
    "fordpd= fordpd.reset_index( drop=True)"
   ]
  },
  {
   "cell_type": "markdown",
   "metadata": {},
   "source": [
    "# Достаем данные о стоимости акции и их приросте"
   ]
  },
  {
   "cell_type": "code",
   "execution_count": 187,
   "metadata": {},
   "outputs": [],
   "source": [
    "def getstockdifference(company=\"msft\"):\n",
    "    url = \"https://www.alphavantage.co/query?function=TIME_SERIES_DAILY&symbol=\"+company+\"&apikey=MKHYA7R2V7PUK5OR\"\n",
    "    params = {\n",
    "        'format': 'json'\n",
    "            }\n",
    "\n",
    "    r = requests.get(url, params=params)\n",
    "    q = r.json()\n",
    "    b=float(q['Time Series (Daily)']['2019-04-12']['4. close'])\n",
    "    a=float(q['Time Series (Daily)']['2019-03-29']['4. close'])\n",
    "    return (b-a)/a\n",
    "    \n"
   ]
  },
  {
   "cell_type": "markdown",
   "metadata": {},
   "source": [
    "## Обрабатываем новости на положительные и отрицательные (машинное обучение и вейдер)\n"
   ]
  },
  {
   "cell_type": "markdown",
   "metadata": {},
   "source": [
    "![alt text](https://images.unsplash.com/photo-1504711434969-e33886168f5c?ixlib=rb-1.2.1&ixid=eyJhcHBfaWQiOjEyMDd9&auto=format&fit=crop&w=900&q=60)"
   ]
  },
  {
   "cell_type": "code",
   "execution_count": 12,
   "metadata": {},
   "outputs": [
    {
     "name": "stdout",
     "output_type": "stream",
     "text": [
      "[nltk_data] Downloading package vader_lexicon to\n",
      "[nltk_data]     /Users/Kirill/nltk_data...\n",
      "[nltk_data]   Package vader_lexicon is already up-to-date!\n"
     ]
    }
   ],
   "source": [
    "import nltk\n",
    "import warnings\n",
    "warnings.filterwarnings('ignore')\n",
    "from nltk.sentiment.vader import SentimentIntensityAnalyzer\n",
    "nltk.download('vader_lexicon')\n",
    "\n",
    "analyzer = SentimentIntensityAnalyzer()"
   ]
  },
  {
   "cell_type": "code",
   "execution_count": 13,
   "metadata": {},
   "outputs": [
    {
     "data": {
      "text/plain": [
       "0.0"
      ]
     },
     "execution_count": 13,
     "metadata": {},
     "output_type": "execute_result"
    }
   ],
   "source": [
    "a=\"VADER is a normal person!\"\n",
    "vs = analyzer.polarity_scores(a)\n",
    "vs['compound']"
   ]
  },
  {
   "cell_type": "code",
   "execution_count": 14,
   "metadata": {},
   "outputs": [
    {
     "data": {
      "text/html": [
       "<div>\n",
       "<style scoped>\n",
       "    .dataframe tbody tr th:only-of-type {\n",
       "        vertical-align: middle;\n",
       "    }\n",
       "\n",
       "    .dataframe tbody tr th {\n",
       "        vertical-align: top;\n",
       "    }\n",
       "\n",
       "    .dataframe thead th {\n",
       "        text-align: right;\n",
       "    }\n",
       "</style>\n",
       "<table border=\"1\" class=\"dataframe\">\n",
       "  <thead>\n",
       "    <tr style=\"text-align: right;\">\n",
       "      <th></th>\n",
       "      <th>date</th>\n",
       "      <th>author</th>\n",
       "      <th>title</th>\n",
       "      <th>description</th>\n",
       "      <th>publishedAt</th>\n",
       "      <th>content</th>\n",
       "    </tr>\n",
       "  </thead>\n",
       "  <tbody>\n",
       "    <tr>\n",
       "      <th>0</th>\n",
       "      <td>2019-04-09</td>\n",
       "      <td>Kirsten Korosec</td>\n",
       "      <td>Voyage CEO Oliver Cameron at TC Sessions: Mobi...</td>\n",
       "      <td>Some of the first users of autonomous taxis ar...</td>\n",
       "      <td>2019-04-09T16:34:00Z</td>\n",
       "      <td>Some of the first users of autonomous taxis ar...</td>\n",
       "    </tr>\n",
       "    <tr>\n",
       "      <th>1</th>\n",
       "      <td>2019-04-09</td>\n",
       "      <td>Chris Paukert</td>\n",
       "      <td>2020 Hyundai Venue gets sketched out ahead of ...</td>\n",
       "      <td>Hyundai's lineup is about to add one of the in...</td>\n",
       "      <td>2019-04-09T12:37:42Z</td>\n",
       "      <td>After years of nursing an undernourished SUV l...</td>\n",
       "    </tr>\n",
       "    <tr>\n",
       "      <th>2</th>\n",
       "      <td>2019-04-09</td>\n",
       "      <td>msmash</td>\n",
       "      <td>Ford and University of Michigan Study Whether ...</td>\n",
       "      <td>Ford and the University of Michigan undertook ...</td>\n",
       "      <td>2019-04-09T22:15:00Z</td>\n",
       "      <td>Flying cars make sense to me as point to point...</td>\n",
       "    </tr>\n",
       "    <tr>\n",
       "      <th>3</th>\n",
       "      <td>2019-04-09</td>\n",
       "      <td>Dhruv.A</td>\n",
       "      <td>Hyundai Venue To Get 8-inch Infotainment Syste...</td>\n",
       "      <td>Will be the first car in its segment to get in...</td>\n",
       "      <td>2019-04-09T10:07:00Z</td>\n",
       "      <td>Debuts Blue Link telematics and internet-based...</td>\n",
       "    </tr>\n",
       "    <tr>\n",
       "      <th>4</th>\n",
       "      <td>2019-04-09</td>\n",
       "      <td>Surendhar M</td>\n",
       "      <td>Hyundai Releases Design Sketch Of Upcoming Ven...</td>\n",
       "      <td>Hyundai Releases Design Sketch Of Upcoming Ven...</td>\n",
       "      <td>2019-04-09T03:14:00Z</td>\n",
       "      <td>Hyundai has a slew of new products lined up fo...</td>\n",
       "    </tr>\n",
       "    <tr>\n",
       "      <th>5</th>\n",
       "      <td>2019-04-09</td>\n",
       "      <td>Katie DeRosa</td>\n",
       "      <td>B.C. government to ban scalper bots, set new r...</td>\n",
       "      <td>B.C. government to ban scalper bots, set new r...</td>\n",
       "      <td>2019-04-09T18:14:00Z</td>\n",
       "      <td>Scalper bots, which allow ticket resellers to ...</td>\n",
       "    </tr>\n",
       "    <tr>\n",
       "      <th>6</th>\n",
       "      <td>2019-04-09</td>\n",
       "      <td>None</td>\n",
       "      <td>In Aberdeen, Brexit is a storm of bad news – b...</td>\n",
       "      <td>In Aberdeen, Brexit is a storm of bad news – b...</td>\n",
       "      <td>2019-04-09T15:17:38Z</td>\n",
       "      <td>The busy harbour of Aberdeen, Scotland's third...</td>\n",
       "    </tr>\n",
       "    <tr>\n",
       "      <th>7</th>\n",
       "      <td>2019-04-09</td>\n",
       "      <td>Mark Frauenfelder</td>\n",
       "      <td>No food on weekends and ice-cold baths: Twitte...</td>\n",
       "      <td>Twitter and Square CEO Jack Dorsey (42) walks ...</td>\n",
       "      <td>2019-04-09T18:34:15Z</td>\n",
       "      <td>Twitter and Square CEO Jack Dorsey (42) walks ...</td>\n",
       "    </tr>\n",
       "    <tr>\n",
       "      <th>8</th>\n",
       "      <td>2019-04-09</td>\n",
       "      <td>probertoj</td>\n",
       "      <td>33 maneras diferentes de ser un hacker (según ...</td>\n",
       "      <td>A los hackers se les ha hecho caso en el cine ...</td>\n",
       "      <td>2019-04-09T10:01:22Z</td>\n",
       "      <td>A los hackers se les ha hecho caso en el cine ...</td>\n",
       "    </tr>\n",
       "    <tr>\n",
       "      <th>9</th>\n",
       "      <td>2019-04-09</td>\n",
       "      <td>AP, AP, AP</td>\n",
       "      <td>Ford CEO says he wants stability on tariffs</td>\n",
       "      <td>Ford CEO Jim Hackett says he is hoping for bal...</td>\n",
       "      <td>2019-04-09T18:55:25Z</td>\n",
       "      <td>None</td>\n",
       "    </tr>\n",
       "    <tr>\n",
       "      <th>10</th>\n",
       "      <td>2019-04-09</td>\n",
       "      <td>Ronan Glon</td>\n",
       "      <td>The 2020 Toyota Highlander is a real work of a...</td>\n",
       "      <td>Toyota will introduce the 2020 Highlander at t...</td>\n",
       "      <td>2019-04-09T15:15:51Z</td>\n",
       "      <td>Toyota will introduce the new 2020 Highlander ...</td>\n",
       "    </tr>\n",
       "    <tr>\n",
       "      <th>11</th>\n",
       "      <td>2019-04-09</td>\n",
       "      <td>Henry J. Gomez</td>\n",
       "      <td>Mayor Pete Demolished Homes To Revitalize Sout...</td>\n",
       "      <td>\"Everyone wants to find a villain,\" a South Be...</td>\n",
       "      <td>2019-04-09T22:07:32Z</td>\n",
       "      <td>SOUTH BEND, Indiana Regina Williams-Preston go...</td>\n",
       "    </tr>\n",
       "    <tr>\n",
       "      <th>12</th>\n",
       "      <td>2019-04-09</td>\n",
       "      <td>Reuters</td>\n",
       "      <td>Ford plans to end independent India business, ...</td>\n",
       "      <td>Filed under: Plants/Manufacturing, Ford 'It's ...</td>\n",
       "      <td>2019-04-09T23:25:00Z</td>\n",
       "      <td>NEW DELHI, India — Ford is nearing a deal with...</td>\n",
       "    </tr>\n",
       "    <tr>\n",
       "      <th>13</th>\n",
       "      <td>2019-04-09</td>\n",
       "      <td>Murilee Martin</td>\n",
       "      <td>Junkyard Gem: 1993 Subaru Justy 4WD GL</td>\n",
       "      <td>Filed under: Etc., Automotive History, Hatchba...</td>\n",
       "      <td>2019-04-09T16:46:00Z</td>\n",
       "      <td>One thing about living in Denver, Colorado, is...</td>\n",
       "    </tr>\n",
       "    <tr>\n",
       "      <th>14</th>\n",
       "      <td>2019-04-09</td>\n",
       "      <td>Associated Press</td>\n",
       "      <td>Couple describe power pole impaling their SUV ...</td>\n",
       "      <td>Filed under: Videos, Weird Car News, Ford, Cro...</td>\n",
       "      <td>2019-04-09T12:53:00Z</td>\n",
       "      <td>SEATTLE — A couple say they're lucky to be ali...</td>\n",
       "    </tr>\n",
       "    <tr>\n",
       "      <th>15</th>\n",
       "      <td>2019-04-09</td>\n",
       "      <td>James Riswick</td>\n",
       "      <td>2019 Chevrolet Silverado Review | Testing the ...</td>\n",
       "      <td>Filed under: Chevrolet, Quick Spins, Truck Tim...</td>\n",
       "      <td>2019-04-09T16:10:00Z</td>\n",
       "      <td>A four-cylinder pickup truck is usually a sad-...</td>\n",
       "    </tr>\n",
       "    <tr>\n",
       "      <th>16</th>\n",
       "      <td>2019-04-09</td>\n",
       "      <td>None</td>\n",
       "      <td>EXCLUSIVE-Ford likely to end independent India...</td>\n",
       "      <td>Ford Motor Co is nearing a deal with Mahindra ...</td>\n",
       "      <td>2019-04-09T14:11:28Z</td>\n",
       "      <td>NEW DELHI, April 9 (Reuters) - Ford Motor Co i...</td>\n",
       "    </tr>\n",
       "    <tr>\n",
       "      <th>17</th>\n",
       "      <td>2019-04-09</td>\n",
       "      <td>Luay Rahil</td>\n",
       "      <td>Why Are You Stuck? 5 Questions to Shift Your M...</td>\n",
       "      <td>Most people struggle with mastering their mind...</td>\n",
       "      <td>2019-04-09T15:00:44Z</td>\n",
       "      <td>When you look at your own life, maybe you’re t...</td>\n",
       "    </tr>\n",
       "    <tr>\n",
       "      <th>18</th>\n",
       "      <td>2019-04-09</td>\n",
       "      <td>alvy@microsiervos.com (Alvy)</td>\n",
       "      <td>Una película-documental sobre el legendario Jo...</td>\n",
       "      <td>Según he leído en junio se estrenará Framing J...</td>\n",
       "      <td>2019-04-09T16:35:50Z</td>\n",
       "      <td>La Tierra es demolida para poder construir una...</td>\n",
       "    </tr>\n",
       "    <tr>\n",
       "      <th>19</th>\n",
       "      <td>2019-04-09</td>\n",
       "      <td>Elizabeth Blackstock</td>\n",
       "      <td>What's the Most Desperate Way You've Come Up W...</td>\n",
       "      <td>It’s basically a law of human nature that we’r...</td>\n",
       "      <td>2019-04-09T15:25:00Z</td>\n",
       "      <td>Its basically a law of human nature that were ...</td>\n",
       "    </tr>\n",
       "  </tbody>\n",
       "</table>\n",
       "</div>"
      ],
      "text/plain": [
       "          date                        author  \\\n",
       "0   2019-04-09               Kirsten Korosec   \n",
       "1   2019-04-09                 Chris Paukert   \n",
       "2   2019-04-09                        msmash   \n",
       "3   2019-04-09                       Dhruv.A   \n",
       "4   2019-04-09                   Surendhar M   \n",
       "5   2019-04-09                  Katie DeRosa   \n",
       "6   2019-04-09                          None   \n",
       "7   2019-04-09             Mark Frauenfelder   \n",
       "8   2019-04-09                     probertoj   \n",
       "9   2019-04-09                    AP, AP, AP   \n",
       "10  2019-04-09                    Ronan Glon   \n",
       "11  2019-04-09                Henry J. Gomez   \n",
       "12  2019-04-09                       Reuters   \n",
       "13  2019-04-09                Murilee Martin   \n",
       "14  2019-04-09              Associated Press   \n",
       "15  2019-04-09                 James Riswick   \n",
       "16  2019-04-09                          None   \n",
       "17  2019-04-09                    Luay Rahil   \n",
       "18  2019-04-09  alvy@microsiervos.com (Alvy)   \n",
       "19  2019-04-09          Elizabeth Blackstock   \n",
       "\n",
       "                                                title  \\\n",
       "0   Voyage CEO Oliver Cameron at TC Sessions: Mobi...   \n",
       "1   2020 Hyundai Venue gets sketched out ahead of ...   \n",
       "2   Ford and University of Michigan Study Whether ...   \n",
       "3   Hyundai Venue To Get 8-inch Infotainment Syste...   \n",
       "4   Hyundai Releases Design Sketch Of Upcoming Ven...   \n",
       "5   B.C. government to ban scalper bots, set new r...   \n",
       "6   In Aberdeen, Brexit is a storm of bad news – b...   \n",
       "7   No food on weekends and ice-cold baths: Twitte...   \n",
       "8   33 maneras diferentes de ser un hacker (según ...   \n",
       "9         Ford CEO says he wants stability on tariffs   \n",
       "10  The 2020 Toyota Highlander is a real work of a...   \n",
       "11  Mayor Pete Demolished Homes To Revitalize Sout...   \n",
       "12  Ford plans to end independent India business, ...   \n",
       "13             Junkyard Gem: 1993 Subaru Justy 4WD GL   \n",
       "14  Couple describe power pole impaling their SUV ...   \n",
       "15  2019 Chevrolet Silverado Review | Testing the ...   \n",
       "16  EXCLUSIVE-Ford likely to end independent India...   \n",
       "17  Why Are You Stuck? 5 Questions to Shift Your M...   \n",
       "18  Una película-documental sobre el legendario Jo...   \n",
       "19  What's the Most Desperate Way You've Come Up W...   \n",
       "\n",
       "                                          description           publishedAt  \\\n",
       "0   Some of the first users of autonomous taxis ar...  2019-04-09T16:34:00Z   \n",
       "1   Hyundai's lineup is about to add one of the in...  2019-04-09T12:37:42Z   \n",
       "2   Ford and the University of Michigan undertook ...  2019-04-09T22:15:00Z   \n",
       "3   Will be the first car in its segment to get in...  2019-04-09T10:07:00Z   \n",
       "4   Hyundai Releases Design Sketch Of Upcoming Ven...  2019-04-09T03:14:00Z   \n",
       "5   B.C. government to ban scalper bots, set new r...  2019-04-09T18:14:00Z   \n",
       "6   In Aberdeen, Brexit is a storm of bad news – b...  2019-04-09T15:17:38Z   \n",
       "7   Twitter and Square CEO Jack Dorsey (42) walks ...  2019-04-09T18:34:15Z   \n",
       "8   A los hackers se les ha hecho caso en el cine ...  2019-04-09T10:01:22Z   \n",
       "9   Ford CEO Jim Hackett says he is hoping for bal...  2019-04-09T18:55:25Z   \n",
       "10  Toyota will introduce the 2020 Highlander at t...  2019-04-09T15:15:51Z   \n",
       "11  \"Everyone wants to find a villain,\" a South Be...  2019-04-09T22:07:32Z   \n",
       "12  Filed under: Plants/Manufacturing, Ford 'It's ...  2019-04-09T23:25:00Z   \n",
       "13  Filed under: Etc., Automotive History, Hatchba...  2019-04-09T16:46:00Z   \n",
       "14  Filed under: Videos, Weird Car News, Ford, Cro...  2019-04-09T12:53:00Z   \n",
       "15  Filed under: Chevrolet, Quick Spins, Truck Tim...  2019-04-09T16:10:00Z   \n",
       "16  Ford Motor Co is nearing a deal with Mahindra ...  2019-04-09T14:11:28Z   \n",
       "17  Most people struggle with mastering their mind...  2019-04-09T15:00:44Z   \n",
       "18  Según he leído en junio se estrenará Framing J...  2019-04-09T16:35:50Z   \n",
       "19  It’s basically a law of human nature that we’r...  2019-04-09T15:25:00Z   \n",
       "\n",
       "                                              content  \n",
       "0   Some of the first users of autonomous taxis ar...  \n",
       "1   After years of nursing an undernourished SUV l...  \n",
       "2   Flying cars make sense to me as point to point...  \n",
       "3   Debuts Blue Link telematics and internet-based...  \n",
       "4   Hyundai has a slew of new products lined up fo...  \n",
       "5   Scalper bots, which allow ticket resellers to ...  \n",
       "6   The busy harbour of Aberdeen, Scotland's third...  \n",
       "7   Twitter and Square CEO Jack Dorsey (42) walks ...  \n",
       "8   A los hackers se les ha hecho caso en el cine ...  \n",
       "9                                                None  \n",
       "10  Toyota will introduce the new 2020 Highlander ...  \n",
       "11  SOUTH BEND, Indiana Regina Williams-Preston go...  \n",
       "12  NEW DELHI, India — Ford is nearing a deal with...  \n",
       "13  One thing about living in Denver, Colorado, is...  \n",
       "14  SEATTLE — A couple say they're lucky to be ali...  \n",
       "15  A four-cylinder pickup truck is usually a sad-...  \n",
       "16  NEW DELHI, April 9 (Reuters) - Ford Motor Co i...  \n",
       "17  When you look at your own life, maybe you’re t...  \n",
       "18  La Tierra es demolida para poder construir una...  \n",
       "19  Its basically a law of human nature that were ...  "
      ]
     },
     "execution_count": 14,
     "metadata": {},
     "output_type": "execute_result"
    }
   ],
   "source": [
    "fordpd"
   ]
  },
  {
   "cell_type": "markdown",
   "metadata": {},
   "source": [
    "Так выглядят новости для анализа"
   ]
  },
  {
   "cell_type": "code",
   "execution_count": 15,
   "metadata": {},
   "outputs": [
    {
     "data": {
      "text/plain": [
       "{'neg': 0.167, 'neu': 0.675, 'pos': 0.158, 'compound': -0.1027}"
      ]
     },
     "execution_count": 15,
     "metadata": {},
     "output_type": "execute_result"
    }
   ],
   "source": [
    "analyzer.polarity_scores(fordpd['content'][3])"
   ]
  },
  {
   "cell_type": "code",
   "execution_count": 16,
   "metadata": {},
   "outputs": [
    {
     "name": "stdout",
     "output_type": "stream",
     "text": [
      "0.13555 0.12207400049999999\n",
      "-0.051505 0.06691646947499999\n",
      "0.099725 0.178890224875\n"
     ]
    }
   ],
   "source": [
    "score_descr=[]\n",
    "score_content=[]\n",
    "score_title=[]\n",
    "for i in range(0,fordpd.shape[0]):\n",
    "    vs=analyzer.polarity_scores(fordpd['description'][i])\n",
    "    score_descr.append(vs['compound'])\n",
    "    vs=analyzer.polarity_scores(str(fordpd['content'][i]))\n",
    "    score_content.append(vs['compound'])\n",
    "    vs=analyzer.polarity_scores(fordpd['title'][i])\n",
    "    score_title.append(vs['compound'])\n",
    "print(np.mean(score_content), np.var(score_content))\n",
    "print(np.mean(score_title), np.var(score_title))\n",
    "print(np.mean(score_descr),np.var(score_descr))"
   ]
  },
  {
   "cell_type": "code",
   "execution_count": 322,
   "metadata": {},
   "outputs": [],
   "source": [
    "df['date']=pd.date_range(start='14/03/2019', end='14/04/2019')"
   ]
  },
  {
   "cell_type": "code",
   "execution_count": 365,
   "metadata": {},
   "outputs": [
    {
     "name": "stdout",
     "output_type": "stream",
     "text": [
      "Ford\n"
     ]
    }
   ],
   "source": [
    "import datetime \n",
    "date_string = df['date'][0].strftime('%Y-%m-%d')\n",
    "print(\"Ford\")\n"
   ]
  },
  {
   "cell_type": "markdown",
   "metadata": {},
   "source": [
    "### Делаем красивую функцию которая будет считать нам все про компанию\n",
    "мы будем брать медиану при оценке новостей за день, так как мы хотим быть устойчивыми к слишком радостной или депрессивной прессе. (Избежать тяжелых хвостов, которые дадут баес)"
   ]
  },
  {
   "cell_type": "code",
   "execution_count": 17,
   "metadata": {},
   "outputs": [],
   "source": [
    "def get_sensitivity(comp=\"Ford\"):\n",
    "    df=pd.DataFrame(columns=['date','mean_title', 'var_title', 'mean_description', 'var_description','mean_content','var_content' ])\n",
    "    df['date']=pd.date_range(start='15/03/2019', end='29/03/2019')\n",
    "    score_descr=[]\n",
    "    score_content=[]\n",
    "    score_title=[]\n",
    "    for i in range(0,df.shape[0]):\n",
    "        date_string = df['date'][i].strftime('%Y-%m-%d')\n",
    "        fd=getnewsabout(comp,date_string)\n",
    "        fordpd= pd.DataFrame(columns=['date','author', 'title', 'description', 'publishedAt','content' ])\n",
    "        for x in range(0,len(fd)):\n",
    "            fordpd.loc[-x] = [date_string, fd[x]['author'],fd[x]['title'],fd[x]['description'],fd[x]['publishedAt'],fd[x]['content']]\n",
    "        fordpd= fordpd.reset_index( drop=True)\n",
    "        for j in range(0,fordpd.shape[0]):\n",
    "            vs=analyzer.polarity_scores(str(fordpd['description'][j]))\n",
    "            score_descr.append(vs['compound'])\n",
    "            vs=analyzer.polarity_scores(str(fordpd['content'][j]))\n",
    "            score_content.append(vs['compound'])\n",
    "            vs=analyzer.polarity_scores(str(fordpd['title'][j]))\n",
    "            score_title.append(vs['compound'])\n",
    "        df['mean_title'][i]=np.median(score_title)\n",
    "        df['var_title'][i]=np.var(score_title)\n",
    "        df['mean_description'][i]=np.median(score_descr)\n",
    "        df['var_description'][i]=np.var(score_descr)\n",
    "        df['mean_content'][i]=np.median(score_content)\n",
    "        df['var_content'][i]=np.var(score_content) \n",
    "    return df"
   ]
  },
  {
   "cell_type": "code",
   "execution_count": 18,
   "metadata": {},
   "outputs": [],
   "source": [
    "fordstock=get_sensitivity()"
   ]
  },
  {
   "cell_type": "code",
   "execution_count": 19,
   "metadata": {},
   "outputs": [
    {
     "data": {
      "text/html": [
       "<div>\n",
       "<style scoped>\n",
       "    .dataframe tbody tr th:only-of-type {\n",
       "        vertical-align: middle;\n",
       "    }\n",
       "\n",
       "    .dataframe tbody tr th {\n",
       "        vertical-align: top;\n",
       "    }\n",
       "\n",
       "    .dataframe thead th {\n",
       "        text-align: right;\n",
       "    }\n",
       "</style>\n",
       "<table border=\"1\" class=\"dataframe\">\n",
       "  <thead>\n",
       "    <tr style=\"text-align: right;\">\n",
       "      <th></th>\n",
       "      <th>date</th>\n",
       "      <th>mean_title</th>\n",
       "      <th>var_title</th>\n",
       "      <th>mean_description</th>\n",
       "      <th>var_description</th>\n",
       "      <th>mean_content</th>\n",
       "      <th>var_content</th>\n",
       "    </tr>\n",
       "  </thead>\n",
       "  <tbody>\n",
       "    <tr>\n",
       "      <th>0</th>\n",
       "      <td>2019-03-15</td>\n",
       "      <td>0</td>\n",
       "      <td>0.0774814</td>\n",
       "      <td>0.2481</td>\n",
       "      <td>0.227035</td>\n",
       "      <td>0.2957</td>\n",
       "      <td>0.165631</td>\n",
       "    </tr>\n",
       "    <tr>\n",
       "      <th>1</th>\n",
       "      <td>2019-03-16</td>\n",
       "      <td>0</td>\n",
       "      <td>0.0873419</td>\n",
       "      <td>0</td>\n",
       "      <td>0.216976</td>\n",
       "      <td>0.05135</td>\n",
       "      <td>0.202868</td>\n",
       "    </tr>\n",
       "    <tr>\n",
       "      <th>2</th>\n",
       "      <td>2019-03-17</td>\n",
       "      <td>0</td>\n",
       "      <td>0.0830568</td>\n",
       "      <td>0</td>\n",
       "      <td>0.219241</td>\n",
       "      <td>0.106</td>\n",
       "      <td>0.224933</td>\n",
       "    </tr>\n",
       "    <tr>\n",
       "      <th>3</th>\n",
       "      <td>2019-03-18</td>\n",
       "      <td>0</td>\n",
       "      <td>0.0931193</td>\n",
       "      <td>0</td>\n",
       "      <td>0.218972</td>\n",
       "      <td>0.08995</td>\n",
       "      <td>0.209886</td>\n",
       "    </tr>\n",
       "    <tr>\n",
       "      <th>4</th>\n",
       "      <td>2019-03-19</td>\n",
       "      <td>0</td>\n",
       "      <td>0.0908929</td>\n",
       "      <td>0</td>\n",
       "      <td>0.200934</td>\n",
       "      <td>0.0644</td>\n",
       "      <td>0.20905</td>\n",
       "    </tr>\n",
       "    <tr>\n",
       "      <th>5</th>\n",
       "      <td>2019-03-20</td>\n",
       "      <td>0</td>\n",
       "      <td>0.0966994</td>\n",
       "      <td>0</td>\n",
       "      <td>0.192117</td>\n",
       "      <td>0.08995</td>\n",
       "      <td>0.20305</td>\n",
       "    </tr>\n",
       "    <tr>\n",
       "      <th>6</th>\n",
       "      <td>2019-03-21</td>\n",
       "      <td>0</td>\n",
       "      <td>0.105675</td>\n",
       "      <td>0</td>\n",
       "      <td>0.197006</td>\n",
       "      <td>0.1436</td>\n",
       "      <td>0.201878</td>\n",
       "    </tr>\n",
       "    <tr>\n",
       "      <th>7</th>\n",
       "      <td>2019-03-22</td>\n",
       "      <td>0</td>\n",
       "      <td>0.109017</td>\n",
       "      <td>0</td>\n",
       "      <td>0.211596</td>\n",
       "      <td>0.20835</td>\n",
       "      <td>0.200222</td>\n",
       "    </tr>\n",
       "    <tr>\n",
       "      <th>8</th>\n",
       "      <td>2019-03-23</td>\n",
       "      <td>0</td>\n",
       "      <td>0.109569</td>\n",
       "      <td>0</td>\n",
       "      <td>0.21255</td>\n",
       "      <td>0.184</td>\n",
       "      <td>0.202277</td>\n",
       "    </tr>\n",
       "    <tr>\n",
       "      <th>9</th>\n",
       "      <td>2019-03-24</td>\n",
       "      <td>0</td>\n",
       "      <td>0.109398</td>\n",
       "      <td>0</td>\n",
       "      <td>0.210803</td>\n",
       "      <td>0.184</td>\n",
       "      <td>0.223153</td>\n",
       "    </tr>\n",
       "    <tr>\n",
       "      <th>10</th>\n",
       "      <td>2019-03-25</td>\n",
       "      <td>0</td>\n",
       "      <td>0.106609</td>\n",
       "      <td>0</td>\n",
       "      <td>0.203384</td>\n",
       "      <td>0.184</td>\n",
       "      <td>0.226718</td>\n",
       "    </tr>\n",
       "    <tr>\n",
       "      <th>11</th>\n",
       "      <td>2019-03-26</td>\n",
       "      <td>0</td>\n",
       "      <td>0.106815</td>\n",
       "      <td>0.0129</td>\n",
       "      <td>0.205249</td>\n",
       "      <td>0.18205</td>\n",
       "      <td>0.223764</td>\n",
       "    </tr>\n",
       "    <tr>\n",
       "      <th>12</th>\n",
       "      <td>2019-03-27</td>\n",
       "      <td>0</td>\n",
       "      <td>0.10921</td>\n",
       "      <td>0</td>\n",
       "      <td>0.20635</td>\n",
       "      <td>0.1779</td>\n",
       "      <td>0.21877</td>\n",
       "    </tr>\n",
       "    <tr>\n",
       "      <th>13</th>\n",
       "      <td>2019-03-28</td>\n",
       "      <td>0</td>\n",
       "      <td>0.109058</td>\n",
       "      <td>0</td>\n",
       "      <td>0.201503</td>\n",
       "      <td>0.1551</td>\n",
       "      <td>0.209124</td>\n",
       "    </tr>\n",
       "    <tr>\n",
       "      <th>14</th>\n",
       "      <td>2019-03-29</td>\n",
       "      <td>0</td>\n",
       "      <td>0.107297</td>\n",
       "      <td>0</td>\n",
       "      <td>0.208308</td>\n",
       "      <td>0.1475</td>\n",
       "      <td>0.213787</td>\n",
       "    </tr>\n",
       "  </tbody>\n",
       "</table>\n",
       "</div>"
      ],
      "text/plain": [
       "         date mean_title  var_title mean_description var_description  \\\n",
       "0  2019-03-15          0  0.0774814           0.2481        0.227035   \n",
       "1  2019-03-16          0  0.0873419                0        0.216976   \n",
       "2  2019-03-17          0  0.0830568                0        0.219241   \n",
       "3  2019-03-18          0  0.0931193                0        0.218972   \n",
       "4  2019-03-19          0  0.0908929                0        0.200934   \n",
       "5  2019-03-20          0  0.0966994                0        0.192117   \n",
       "6  2019-03-21          0   0.105675                0        0.197006   \n",
       "7  2019-03-22          0   0.109017                0        0.211596   \n",
       "8  2019-03-23          0   0.109569                0         0.21255   \n",
       "9  2019-03-24          0   0.109398                0        0.210803   \n",
       "10 2019-03-25          0   0.106609                0        0.203384   \n",
       "11 2019-03-26          0   0.106815           0.0129        0.205249   \n",
       "12 2019-03-27          0    0.10921                0         0.20635   \n",
       "13 2019-03-28          0   0.109058                0        0.201503   \n",
       "14 2019-03-29          0   0.107297                0        0.208308   \n",
       "\n",
       "   mean_content var_content  \n",
       "0        0.2957    0.165631  \n",
       "1       0.05135    0.202868  \n",
       "2         0.106    0.224933  \n",
       "3       0.08995    0.209886  \n",
       "4        0.0644     0.20905  \n",
       "5       0.08995     0.20305  \n",
       "6        0.1436    0.201878  \n",
       "7       0.20835    0.200222  \n",
       "8         0.184    0.202277  \n",
       "9         0.184    0.223153  \n",
       "10        0.184    0.226718  \n",
       "11      0.18205    0.223764  \n",
       "12       0.1779     0.21877  \n",
       "13       0.1551    0.209124  \n",
       "14       0.1475    0.213787  "
      ]
     },
     "execution_count": 19,
     "metadata": {},
     "output_type": "execute_result"
    }
   ],
   "source": [
    "fordstock"
   ]
  },
  {
   "cell_type": "code",
   "execution_count": 210,
   "metadata": {},
   "outputs": [],
   "source": [
    "import matplotlib.pyplot as plt\n",
    "%matplotlib inline"
   ]
  },
  {
   "cell_type": "code",
   "execution_count": 232,
   "metadata": {},
   "outputs": [
    {
     "data": {
      "image/png": "[encoded data removed]",
      "text/plain": [
       "<Figure size 432x288 with 1 Axes>"
      ]
     },
     "metadata": {
      "needs_background": "light"
     },
     "output_type": "display_data"
    }
   ],
   "source": [
    "plt.errorbar('date', 'mean_content', yerr='var_content', fmt='o', color='blue',\n",
    "             ecolor='lightblue', elinewidth=2, capsize=0, data=fordstock);\n",
    "plt.title(\"Mean & Variance of Score for Ford\")\n",
    "plt.xlabel(\"date\")\n",
    "plt.legend();"
   ]
  },
  {
   "cell_type": "code",
   "execution_count": 234,
   "metadata": {},
   "outputs": [],
   "source": [
    "tsla=get_sensitivity(\"Tesla\")"
   ]
  },
  {
   "cell_type": "code",
   "execution_count": 235,
   "metadata": {},
   "outputs": [
    {
     "data": {
      "text/html": [
       "<div>\n",
       "<style scoped>\n",
       "    .dataframe tbody tr th:only-of-type {\n",
       "        vertical-align: middle;\n",
       "    }\n",
       "\n",
       "    .dataframe tbody tr th {\n",
       "        vertical-align: top;\n",
       "    }\n",
       "\n",
       "    .dataframe thead th {\n",
       "        text-align: right;\n",
       "    }\n",
       "</style>\n",
       "<table border=\"1\" class=\"dataframe\">\n",
       "  <thead>\n",
       "    <tr style=\"text-align: right;\">\n",
       "      <th></th>\n",
       "      <th>date</th>\n",
       "      <th>mean_title</th>\n",
       "      <th>var_title</th>\n",
       "      <th>mean_description</th>\n",
       "      <th>var_description</th>\n",
       "      <th>mean_content</th>\n",
       "      <th>var_content</th>\n",
       "    </tr>\n",
       "  </thead>\n",
       "  <tbody>\n",
       "    <tr>\n",
       "      <th>0</th>\n",
       "      <td>2019-03-15</td>\n",
       "      <td>0</td>\n",
       "      <td>0.11396</td>\n",
       "      <td>0.2957</td>\n",
       "      <td>0.168856</td>\n",
       "      <td>0</td>\n",
       "      <td>0.177736</td>\n",
       "    </tr>\n",
       "    <tr>\n",
       "      <th>1</th>\n",
       "      <td>2019-03-16</td>\n",
       "      <td>0</td>\n",
       "      <td>0.104091</td>\n",
       "      <td>0.0386</td>\n",
       "      <td>0.144519</td>\n",
       "      <td>0</td>\n",
       "      <td>0.183449</td>\n",
       "    </tr>\n",
       "    <tr>\n",
       "      <th>2</th>\n",
       "      <td>2019-03-17</td>\n",
       "      <td>0</td>\n",
       "      <td>0.0924123</td>\n",
       "      <td>0</td>\n",
       "      <td>0.135851</td>\n",
       "      <td>0</td>\n",
       "      <td>0.193643</td>\n",
       "    </tr>\n",
       "    <tr>\n",
       "      <th>3</th>\n",
       "      <td>2019-03-18</td>\n",
       "      <td>0</td>\n",
       "      <td>0.102077</td>\n",
       "      <td>0</td>\n",
       "      <td>0.180006</td>\n",
       "      <td>0</td>\n",
       "      <td>0.215938</td>\n",
       "    </tr>\n",
       "    <tr>\n",
       "      <th>4</th>\n",
       "      <td>2019-03-19</td>\n",
       "      <td>0</td>\n",
       "      <td>0.121122</td>\n",
       "      <td>0</td>\n",
       "      <td>0.209084</td>\n",
       "      <td>0</td>\n",
       "      <td>0.21235</td>\n",
       "    </tr>\n",
       "    <tr>\n",
       "      <th>5</th>\n",
       "      <td>2019-03-20</td>\n",
       "      <td>0</td>\n",
       "      <td>0.106028</td>\n",
       "      <td>0</td>\n",
       "      <td>0.209132</td>\n",
       "      <td>0</td>\n",
       "      <td>0.21562</td>\n",
       "    </tr>\n",
       "    <tr>\n",
       "      <th>6</th>\n",
       "      <td>2019-03-21</td>\n",
       "      <td>0</td>\n",
       "      <td>0.105465</td>\n",
       "      <td>0</td>\n",
       "      <td>0.21673</td>\n",
       "      <td>0</td>\n",
       "      <td>0.219381</td>\n",
       "    </tr>\n",
       "    <tr>\n",
       "      <th>7</th>\n",
       "      <td>2019-03-22</td>\n",
       "      <td>0</td>\n",
       "      <td>0.101213</td>\n",
       "      <td>0</td>\n",
       "      <td>0.210971</td>\n",
       "      <td>0</td>\n",
       "      <td>0.21479</td>\n",
       "    </tr>\n",
       "    <tr>\n",
       "      <th>8</th>\n",
       "      <td>2019-03-23</td>\n",
       "      <td>0</td>\n",
       "      <td>0.0975409</td>\n",
       "      <td>0</td>\n",
       "      <td>0.205222</td>\n",
       "      <td>0</td>\n",
       "      <td>0.208856</td>\n",
       "    </tr>\n",
       "    <tr>\n",
       "      <th>9</th>\n",
       "      <td>2019-03-24</td>\n",
       "      <td>0</td>\n",
       "      <td>0.0917617</td>\n",
       "      <td>0</td>\n",
       "      <td>0.202265</td>\n",
       "      <td>0</td>\n",
       "      <td>0.21309</td>\n",
       "    </tr>\n",
       "    <tr>\n",
       "      <th>10</th>\n",
       "      <td>2019-03-25</td>\n",
       "      <td>0</td>\n",
       "      <td>0.0917539</td>\n",
       "      <td>0</td>\n",
       "      <td>0.201741</td>\n",
       "      <td>0</td>\n",
       "      <td>0.2108</td>\n",
       "    </tr>\n",
       "    <tr>\n",
       "      <th>11</th>\n",
       "      <td>2019-03-26</td>\n",
       "      <td>0</td>\n",
       "      <td>0.095649</td>\n",
       "      <td>0</td>\n",
       "      <td>0.212573</td>\n",
       "      <td>0</td>\n",
       "      <td>0.22006</td>\n",
       "    </tr>\n",
       "    <tr>\n",
       "      <th>12</th>\n",
       "      <td>2019-03-27</td>\n",
       "      <td>0</td>\n",
       "      <td>0.0957041</td>\n",
       "      <td>0</td>\n",
       "      <td>0.208688</td>\n",
       "      <td>0</td>\n",
       "      <td>0.224825</td>\n",
       "    </tr>\n",
       "    <tr>\n",
       "      <th>13</th>\n",
       "      <td>2019-03-28</td>\n",
       "      <td>0</td>\n",
       "      <td>0.0918789</td>\n",
       "      <td>0</td>\n",
       "      <td>0.200231</td>\n",
       "      <td>0</td>\n",
       "      <td>0.219493</td>\n",
       "    </tr>\n",
       "    <tr>\n",
       "      <th>14</th>\n",
       "      <td>2019-03-29</td>\n",
       "      <td>0</td>\n",
       "      <td>0.0918406</td>\n",
       "      <td>0</td>\n",
       "      <td>0.199491</td>\n",
       "      <td>0</td>\n",
       "      <td>0.221305</td>\n",
       "    </tr>\n",
       "  </tbody>\n",
       "</table>\n",
       "</div>"
      ],
      "text/plain": [
       "         date mean_title  var_title mean_description var_description  \\\n",
       "0  2019-03-15          0    0.11396           0.2957        0.168856   \n",
       "1  2019-03-16          0   0.104091           0.0386        0.144519   \n",
       "2  2019-03-17          0  0.0924123                0        0.135851   \n",
       "3  2019-03-18          0   0.102077                0        0.180006   \n",
       "4  2019-03-19          0   0.121122                0        0.209084   \n",
       "5  2019-03-20          0   0.106028                0        0.209132   \n",
       "6  2019-03-21          0   0.105465                0         0.21673   \n",
       "7  2019-03-22          0   0.101213                0        0.210971   \n",
       "8  2019-03-23          0  0.0975409                0        0.205222   \n",
       "9  2019-03-24          0  0.0917617                0        0.202265   \n",
       "10 2019-03-25          0  0.0917539                0        0.201741   \n",
       "11 2019-03-26          0   0.095649                0        0.212573   \n",
       "12 2019-03-27          0  0.0957041                0        0.208688   \n",
       "13 2019-03-28          0  0.0918789                0        0.200231   \n",
       "14 2019-03-29          0  0.0918406                0        0.199491   \n",
       "\n",
       "   mean_content var_content  \n",
       "0             0    0.177736  \n",
       "1             0    0.183449  \n",
       "2             0    0.193643  \n",
       "3             0    0.215938  \n",
       "4             0     0.21235  \n",
       "5             0     0.21562  \n",
       "6             0    0.219381  \n",
       "7             0     0.21479  \n",
       "8             0    0.208856  \n",
       "9             0     0.21309  \n",
       "10            0      0.2108  \n",
       "11            0     0.22006  \n",
       "12            0    0.224825  \n",
       "13            0    0.219493  \n",
       "14            0    0.221305  "
      ]
     },
     "execution_count": 235,
     "metadata": {},
     "output_type": "execute_result"
    }
   ],
   "source": [
    "tsla"
   ]
  },
  {
   "cell_type": "code",
   "execution_count": 236,
   "metadata": {},
   "outputs": [
    {
     "data": {
      "image/png": "[encoded data removed]",
      "text/plain": [
       "<Figure size 432x288 with 1 Axes>"
      ]
     },
     "metadata": {
      "needs_background": "light"
     },
     "output_type": "display_data"
    }
   ],
   "source": [
    "plt.errorbar('date', 'mean_content', yerr='var_content', fmt='o', color='blue',\n",
    "             ecolor='lightblue', elinewidth=2, capsize=0, data=tsla);\n",
    "plt.title(\"Mean & Variance of Score for Tesla\")\n",
    "plt.xlabel(\"date\")\n",
    "plt.legend();"
   ]
  },
  {
   "cell_type": "code",
   "execution_count": 237,
   "metadata": {},
   "outputs": [],
   "source": [
    "microsoft=get_sensitivity(\"Microsoft\")"
   ]
  },
  {
   "cell_type": "code",
   "execution_count": 238,
   "metadata": {},
   "outputs": [
    {
     "data": {
      "image/png": "[encoded data removed]",
      "text/plain": [
       "<Figure size 432x288 with 1 Axes>"
      ]
     },
     "metadata": {
      "needs_background": "light"
     },
     "output_type": "display_data"
    }
   ],
   "source": [
    "plt.errorbar('date', 'mean_content', yerr='var_content', fmt='o', color='blue',\n",
    "             ecolor='lightblue', elinewidth=2, capsize=0, data=microsoft);\n",
    "plt.title(\"Mean & Variance of Score for Microsoft\")\n",
    "plt.xlabel(\"date\")\n",
    "plt.legend();"
   ]
  },
  {
   "cell_type": "code",
   "execution_count": 399,
   "metadata": {},
   "outputs": [
    {
     "data": {
      "text/plain": [
       "0.13539218750000004"
      ]
     },
     "execution_count": 399,
     "metadata": {},
     "output_type": "execute_result"
    }
   ],
   "source": [
    "microsoft['mean_content'].mean()"
   ]
  },
  {
   "cell_type": "markdown",
   "metadata": {},
   "source": [
    "Это значит что средняя медиана новостей про Microsoft положительная."
   ]
  },
  {
   "cell_type": "markdown",
   "metadata": {},
   "source": [
    "## Проверяем нашу стратегию (BackTesting)"
   ]
  },
  {
   "cell_type": "code",
   "execution_count": 202,
   "metadata": {},
   "outputs": [],
   "source": [
    "listofcomp=[\"Omnicell\",\n",
    "\"Apple\",\n",
    "\"Mattel\",\n",
    "\"Marriott\",\"eBay\"]\n",
    "#\"eBay\",\"Amazon\",\"Blizzard\",\"Erytech\",\"Littelfuse\",\"Adidas\",\"Tesco\"]"
   ]
  },
  {
   "cell_type": "code",
   "execution_count": 203,
   "metadata": {},
   "outputs": [
    {
     "data": {
      "text/plain": [
       "5"
      ]
     },
     "execution_count": 203,
     "metadata": {},
     "output_type": "execute_result"
    }
   ],
   "source": [
    "len(listofcomp)"
   ]
  },
  {
   "cell_type": "code",
   "execution_count": 206,
   "metadata": {},
   "outputs": [
    {
     "name": "stdout",
     "output_type": "stream",
     "text": [
      "[0.5207307692307692, 0.2684166666666667, 0.2598033333333334, 0.3817566666666667, 0.0]\n"
     ]
    }
   ],
   "source": [
    "results=[]\n",
    "for i in range(0,len(listofcomp)):\n",
    "    results.append(get_sensitivity(listofcomp[i])['mean_content'].mean())\n",
    "print(results)"
   ]
  },
  {
   "cell_type": "code",
   "execution_count": 239,
   "metadata": {},
   "outputs": [],
   "source": [
    "listandcoefs=pd.DataFrame({'Name' : listofcomp, 'Coef' : results})    "
   ]
  },
  {
   "cell_type": "code",
   "execution_count": 240,
   "metadata": {},
   "outputs": [
    {
     "data": {
      "text/html": [
       "<div>\n",
       "<style scoped>\n",
       "    .dataframe tbody tr th:only-of-type {\n",
       "        vertical-align: middle;\n",
       "    }\n",
       "\n",
       "    .dataframe tbody tr th {\n",
       "        vertical-align: top;\n",
       "    }\n",
       "\n",
       "    .dataframe thead th {\n",
       "        text-align: right;\n",
       "    }\n",
       "</style>\n",
       "<table border=\"1\" class=\"dataframe\">\n",
       "  <thead>\n",
       "    <tr style=\"text-align: right;\">\n",
       "      <th></th>\n",
       "      <th>Name</th>\n",
       "      <th>Coef</th>\n",
       "    </tr>\n",
       "  </thead>\n",
       "  <tbody>\n",
       "    <tr>\n",
       "      <th>0</th>\n",
       "      <td>Omnicell</td>\n",
       "      <td>0.520731</td>\n",
       "    </tr>\n",
       "    <tr>\n",
       "      <th>1</th>\n",
       "      <td>Apple</td>\n",
       "      <td>0.268417</td>\n",
       "    </tr>\n",
       "    <tr>\n",
       "      <th>2</th>\n",
       "      <td>Mattel</td>\n",
       "      <td>0.259803</td>\n",
       "    </tr>\n",
       "    <tr>\n",
       "      <th>3</th>\n",
       "      <td>Marriott</td>\n",
       "      <td>0.381757</td>\n",
       "    </tr>\n",
       "    <tr>\n",
       "      <th>4</th>\n",
       "      <td>eBay</td>\n",
       "      <td>0.000000</td>\n",
       "    </tr>\n",
       "  </tbody>\n",
       "</table>\n",
       "</div>"
      ],
      "text/plain": [
       "       Name      Coef\n",
       "0  Omnicell  0.520731\n",
       "1     Apple  0.268417\n",
       "2    Mattel  0.259803\n",
       "3  Marriott  0.381757\n",
       "4      eBay  0.000000"
      ]
     },
     "execution_count": 240,
     "metadata": {},
     "output_type": "execute_result"
    }
   ],
   "source": [
    "listandcoefs"
   ]
  },
  {
   "cell_type": "markdown",
   "metadata": {},
   "source": [
    "Как мы видим, первые 4 стока нам стоит купить!"
   ]
  },
  {
   "cell_type": "code",
   "execution_count": 188,
   "metadata": {},
   "outputs": [],
   "source": [
    "listoftik=[\"AVN\",\n",
    "\"OMCL\",\n",
    "\"AAPL\",\n",
    "\"MAT\",\n",
    "\"MAR\"]\n",
    "#\"EBAYL\",\"AMZN\",\"ATVI\",\"ERYP\",\"LFUS\",\"ADS\",\"TSCO\"]"
   ]
  },
  {
   "cell_type": "code",
   "execution_count": 191,
   "metadata": {},
   "outputs": [
    {
     "data": {
      "text/plain": [
       "0.010761999010390776"
      ]
     },
     "execution_count": 191,
     "metadata": {},
     "output_type": "execute_result"
    }
   ],
   "source": [
    "getstockdifference(\"OMCL\")"
   ]
  },
  {
   "cell_type": "code",
   "execution_count": 192,
   "metadata": {},
   "outputs": [
    {
     "data": {
      "text/plain": [
       "0.04695972624374844"
      ]
     },
     "execution_count": 192,
     "metadata": {},
     "output_type": "execute_result"
    }
   ],
   "source": [
    "getstockdifference(\"AAPL\")"
   ]
  },
  {
   "cell_type": "code",
   "execution_count": 193,
   "metadata": {},
   "outputs": [
    {
     "data": {
      "text/plain": [
       "0.04615384615384613"
      ]
     },
     "execution_count": 193,
     "metadata": {},
     "output_type": "execute_result"
    }
   ],
   "source": [
    "getstockdifference(\"MAT\")"
   ]
  },
  {
   "cell_type": "code",
   "execution_count": 194,
   "metadata": {},
   "outputs": [
    {
     "data": {
      "text/plain": [
       "0.07642497401870654"
      ]
     },
     "execution_count": 194,
     "metadata": {},
     "output_type": "execute_result"
    }
   ],
   "source": [
    "getstockdifference(\"MAR\")"
   ]
  },
  {
   "cell_type": "code",
   "execution_count": 195,
   "metadata": {},
   "outputs": [
    {
     "data": {
      "text/plain": [
       "-0.011043412033511146"
      ]
     },
     "execution_count": 195,
     "metadata": {},
     "output_type": "execute_result"
    }
   ],
   "source": [
    "getstockdifference(\"EBAYL\")"
   ]
  },
  {
   "cell_type": "code",
   "execution_count": 242,
   "metadata": {},
   "outputs": [
    {
     "data": {
      "text/plain": [
       "0.04507513635667297"
      ]
     },
     "execution_count": 242,
     "metadata": {},
     "output_type": "execute_result"
    }
   ],
   "source": [
    "np.mean([0.07642497401870654,0.04615384615384613,0.04695972624374844,0.010761999010390776])"
   ]
  },
  {
   "cell_type": "markdown",
   "metadata": {},
   "source": [
    "# Смотрите, наш анализ работает за 15 дней мы заработали в среднем 4.5% !!!"
   ]
  },
  {
   "cell_type": "code",
   "execution_count": 196,
   "metadata": {},
   "outputs": [
    {
     "data": {
      "text/plain": [
       "0.038436195914781465"
      ]
     },
     "execution_count": 196,
     "metadata": {},
     "output_type": "execute_result"
    }
   ],
   "source": [
    "getstockdifference(\"ATVI\")"
   ]
  },
  {
   "cell_type": "code",
   "execution_count": 197,
   "metadata": {},
   "outputs": [
    {
     "data": {
      "text/plain": [
       "-0.0013192612137202884"
      ]
     },
     "execution_count": 197,
     "metadata": {},
     "output_type": "execute_result"
    }
   ],
   "source": [
    "getstockdifference(\"ERYP\")"
   ]
  },
  {
   "cell_type": "code",
   "execution_count": 198,
   "metadata": {},
   "outputs": [
    {
     "data": {
      "text/plain": [
       "0.07885795703638764"
      ]
     },
     "execution_count": 198,
     "metadata": {},
     "output_type": "execute_result"
    }
   ],
   "source": [
    "getstockdifference(\"LFUS\")"
   ]
  },
  {
   "cell_type": "markdown",
   "metadata": {},
   "source": [
    "# Как мы можем проверить нашу стратегию?\n",
    "Мы можем брать случайные сэмплы и смотреть на то, что об этим команиях предсказал наш анализ новостей, а потом сравнивать с тем как отыграл рынок.\n",
    "Далее код и рассуждения при наличии платного API"
   ]
  },
  {
   "cell_type": "markdown",
   "metadata": {},
   "source": [
    "## Вот так мы можем достать данные симпатичнее, но наткнемся на то, что количество запросов ограничено. \n",
    "### Единственный способ сделать наш анализ во времени симпатичнее это купить платный api..."
   ]
  },
  {
   "cell_type": "code",
   "execution_count": 189,
   "metadata": {},
   "outputs": [
    {
     "ename": "KeyError",
     "evalue": "'2019-04-12'",
     "output_type": "error",
     "traceback": [
      "\u001b[0;31m---------------------------------------------------------------------------\u001b[0m",
      "\u001b[0;31mKeyError\u001b[0m                                  Traceback (most recent call last)",
      "\u001b[0;32m<ipython-input-189-53ab352d0ce1>\u001b[0m in \u001b[0;36m<module>\u001b[0;34m\u001b[0m\n\u001b[1;32m      1\u001b[0m \u001b[0mtikres\u001b[0m\u001b[0;34m=\u001b[0m\u001b[0;34m[\u001b[0m\u001b[0;34m]\u001b[0m\u001b[0;34m\u001b[0m\u001b[0;34m\u001b[0m\u001b[0m\n\u001b[1;32m      2\u001b[0m \u001b[0;32mfor\u001b[0m \u001b[0mi\u001b[0m \u001b[0;32min\u001b[0m \u001b[0mrange\u001b[0m\u001b[0;34m(\u001b[0m\u001b[0;36m0\u001b[0m\u001b[0;34m,\u001b[0m\u001b[0mlen\u001b[0m\u001b[0;34m(\u001b[0m\u001b[0mlistoftik\u001b[0m\u001b[0;34m)\u001b[0m\u001b[0;34m)\u001b[0m\u001b[0;34m:\u001b[0m\u001b[0;34m\u001b[0m\u001b[0;34m\u001b[0m\u001b[0m\n\u001b[0;32m----> 3\u001b[0;31m     \u001b[0mtikres\u001b[0m\u001b[0;34m.\u001b[0m\u001b[0mappend\u001b[0m\u001b[0;34m(\u001b[0m\u001b[0mgetstockdifference\u001b[0m\u001b[0;34m(\u001b[0m\u001b[0mlistoftik\u001b[0m\u001b[0;34m[\u001b[0m\u001b[0mi\u001b[0m\u001b[0;34m]\u001b[0m\u001b[0;34m)\u001b[0m\u001b[0;34m)\u001b[0m\u001b[0;34m\u001b[0m\u001b[0;34m\u001b[0m\u001b[0m\n\u001b[0m\u001b[1;32m      4\u001b[0m \u001b[0mprint\u001b[0m\u001b[0;34m(\u001b[0m\u001b[0mtikres\u001b[0m\u001b[0;34m)\u001b[0m\u001b[0;34m\u001b[0m\u001b[0;34m\u001b[0m\u001b[0m\n",
      "\u001b[0;32m<ipython-input-187-a8b896e11eba>\u001b[0m in \u001b[0;36mgetstockdifference\u001b[0;34m(company)\u001b[0m\n\u001b[1;32m      7\u001b[0m     \u001b[0mr\u001b[0m \u001b[0;34m=\u001b[0m \u001b[0mrequests\u001b[0m\u001b[0;34m.\u001b[0m\u001b[0mget\u001b[0m\u001b[0;34m(\u001b[0m\u001b[0murl\u001b[0m\u001b[0;34m,\u001b[0m \u001b[0mparams\u001b[0m\u001b[0;34m=\u001b[0m\u001b[0mparams\u001b[0m\u001b[0;34m)\u001b[0m\u001b[0;34m\u001b[0m\u001b[0;34m\u001b[0m\u001b[0m\n\u001b[1;32m      8\u001b[0m     \u001b[0mq\u001b[0m \u001b[0;34m=\u001b[0m \u001b[0mr\u001b[0m\u001b[0;34m.\u001b[0m\u001b[0mjson\u001b[0m\u001b[0;34m(\u001b[0m\u001b[0;34m)\u001b[0m\u001b[0;34m\u001b[0m\u001b[0;34m\u001b[0m\u001b[0m\n\u001b[0;32m----> 9\u001b[0;31m     \u001b[0mb\u001b[0m\u001b[0;34m=\u001b[0m\u001b[0mfloat\u001b[0m\u001b[0;34m(\u001b[0m\u001b[0mq\u001b[0m\u001b[0;34m[\u001b[0m\u001b[0;34m'Time Series (Daily)'\u001b[0m\u001b[0;34m]\u001b[0m\u001b[0;34m[\u001b[0m\u001b[0;34m'2019-04-12'\u001b[0m\u001b[0;34m]\u001b[0m\u001b[0;34m[\u001b[0m\u001b[0;34m'4. close'\u001b[0m\u001b[0;34m]\u001b[0m\u001b[0;34m)\u001b[0m\u001b[0;34m\u001b[0m\u001b[0;34m\u001b[0m\u001b[0m\n\u001b[0m\u001b[1;32m     10\u001b[0m     \u001b[0ma\u001b[0m\u001b[0;34m=\u001b[0m\u001b[0mfloat\u001b[0m\u001b[0;34m(\u001b[0m\u001b[0mq\u001b[0m\u001b[0;34m[\u001b[0m\u001b[0;34m'Time Series (Daily)'\u001b[0m\u001b[0;34m]\u001b[0m\u001b[0;34m[\u001b[0m\u001b[0;34m'2019-03-29'\u001b[0m\u001b[0;34m]\u001b[0m\u001b[0;34m[\u001b[0m\u001b[0;34m'4. close'\u001b[0m\u001b[0;34m]\u001b[0m\u001b[0;34m)\u001b[0m\u001b[0;34m\u001b[0m\u001b[0;34m\u001b[0m\u001b[0m\n\u001b[1;32m     11\u001b[0m     \u001b[0;32mreturn\u001b[0m \u001b[0;34m(\u001b[0m\u001b[0mb\u001b[0m\u001b[0;34m-\u001b[0m\u001b[0ma\u001b[0m\u001b[0;34m)\u001b[0m\u001b[0;34m/\u001b[0m\u001b[0ma\u001b[0m\u001b[0;34m\u001b[0m\u001b[0;34m\u001b[0m\u001b[0m\n",
      "\u001b[0;31mKeyError\u001b[0m: '2019-04-12'"
     ]
    }
   ],
   "source": [
    "tikres=[]\n",
    "for i in range(0,len(listoftik)):\n",
    "    tikres.append(getstockdifference(listoftik[i]))\n",
    "print(tikres)"
   ]
  },
  {
   "cell_type": "code",
   "execution_count": 33,
   "metadata": {},
   "outputs": [],
   "source": [
    "complist=pd.read_csv(\"companylist.csv\")"
   ]
  },
  {
   "cell_type": "code",
   "execution_count": 106,
   "metadata": {},
   "outputs": [
    {
     "data": {
      "text/html": [
       "<div>\n",
       "<style scoped>\n",
       "    .dataframe tbody tr th:only-of-type {\n",
       "        vertical-align: middle;\n",
       "    }\n",
       "\n",
       "    .dataframe tbody tr th {\n",
       "        vertical-align: top;\n",
       "    }\n",
       "\n",
       "    .dataframe thead th {\n",
       "        text-align: right;\n",
       "    }\n",
       "</style>\n",
       "<table border=\"1\" class=\"dataframe\">\n",
       "  <thead>\n",
       "    <tr style=\"text-align: right;\">\n",
       "      <th></th>\n",
       "      <th>Symbol</th>\n",
       "      <th>Name</th>\n",
       "      <th>LastSale</th>\n",
       "      <th>MarketCap</th>\n",
       "      <th>IPOyear</th>\n",
       "      <th>Sector</th>\n",
       "      <th>industry</th>\n",
       "      <th>Summary Quote</th>\n",
       "      <th>Unnamed: 8</th>\n",
       "    </tr>\n",
       "  </thead>\n",
       "  <tbody>\n",
       "    <tr>\n",
       "      <th>1661</th>\n",
       "      <td>INTU</td>\n",
       "      <td>Intuit Inc.</td>\n",
       "      <td>260.0600</td>\n",
       "      <td>$67.37B</td>\n",
       "      <td>1993.0</td>\n",
       "      <td>Technology</td>\n",
       "      <td>Computer Software: Prepackaged Software</td>\n",
       "      <td>https://www.nasdaq.com/symbol/intu</td>\n",
       "      <td>NaN</td>\n",
       "    </tr>\n",
       "    <tr>\n",
       "      <th>1086</th>\n",
       "      <td>FNHC</td>\n",
       "      <td>FedNat Holding Company</td>\n",
       "      <td>16.9300</td>\n",
       "      <td>$216.44M</td>\n",
       "      <td>NaN</td>\n",
       "      <td>Finance</td>\n",
       "      <td>Property-Casualty Insurers</td>\n",
       "      <td>https://www.nasdaq.com/symbol/fnhc</td>\n",
       "      <td>NaN</td>\n",
       "    </tr>\n",
       "    <tr>\n",
       "      <th>2586</th>\n",
       "      <td>PMD</td>\n",
       "      <td>Psychemedics Corporation</td>\n",
       "      <td>14.4800</td>\n",
       "      <td>$79.75M</td>\n",
       "      <td>NaN</td>\n",
       "      <td>Health Care</td>\n",
       "      <td>Medical Specialities</td>\n",
       "      <td>https://www.nasdaq.com/symbol/pmd</td>\n",
       "      <td>NaN</td>\n",
       "    </tr>\n",
       "    <tr>\n",
       "      <th>753</th>\n",
       "      <td>CNMD</td>\n",
       "      <td>CONMED Corporation</td>\n",
       "      <td>83.1800</td>\n",
       "      <td>$2.34B</td>\n",
       "      <td>1987.0</td>\n",
       "      <td>Health Care</td>\n",
       "      <td>Biotechnology: Electromedical &amp; Electrotherape...</td>\n",
       "      <td>https://www.nasdaq.com/symbol/cnmd</td>\n",
       "      <td>NaN</td>\n",
       "    </tr>\n",
       "    <tr>\n",
       "      <th>2383</th>\n",
       "      <td>ORRF</td>\n",
       "      <td>Orrstown Financial Services Inc</td>\n",
       "      <td>19.1900</td>\n",
       "      <td>$181.96M</td>\n",
       "      <td>NaN</td>\n",
       "      <td>Finance</td>\n",
       "      <td>Major Banks</td>\n",
       "      <td>https://www.nasdaq.com/symbol/orrf</td>\n",
       "      <td>NaN</td>\n",
       "    </tr>\n",
       "    <tr>\n",
       "      <th>3306</th>\n",
       "      <td>CFA</td>\n",
       "      <td>VictoryShares US 500 Volatility Wtd ETF</td>\n",
       "      <td>51.7813</td>\n",
       "      <td>$714.56M</td>\n",
       "      <td>NaN</td>\n",
       "      <td>NaN</td>\n",
       "      <td>NaN</td>\n",
       "      <td>https://www.nasdaq.com/symbol/cfa</td>\n",
       "      <td>NaN</td>\n",
       "    </tr>\n",
       "    <tr>\n",
       "      <th>2398</th>\n",
       "      <td>OVID</td>\n",
       "      <td>Ovid Therapeutics Inc.</td>\n",
       "      <td>1.8300</td>\n",
       "      <td>$70.73M</td>\n",
       "      <td>2017.0</td>\n",
       "      <td>Health Care</td>\n",
       "      <td>Major Pharmaceuticals</td>\n",
       "      <td>https://www.nasdaq.com/symbol/ovid</td>\n",
       "      <td>NaN</td>\n",
       "    </tr>\n",
       "    <tr>\n",
       "      <th>3450</th>\n",
       "      <td>ZIONW</td>\n",
       "      <td>Zions Bancorporation N.A.</td>\n",
       "      <td>15.9900</td>\n",
       "      <td>NaN</td>\n",
       "      <td>NaN</td>\n",
       "      <td>Finance</td>\n",
       "      <td>Major Banks</td>\n",
       "      <td>https://www.nasdaq.com/symbol/zionw</td>\n",
       "      <td>NaN</td>\n",
       "    </tr>\n",
       "    <tr>\n",
       "      <th>2333</th>\n",
       "      <td>ODFL</td>\n",
       "      <td>Old Dominion Freight Line, Inc.</td>\n",
       "      <td>153.7400</td>\n",
       "      <td>$12.48B</td>\n",
       "      <td>1991.0</td>\n",
       "      <td>Transportation</td>\n",
       "      <td>Trucking Freight/Courier Services</td>\n",
       "      <td>https://www.nasdaq.com/symbol/odfl</td>\n",
       "      <td>NaN</td>\n",
       "    </tr>\n",
       "    <tr>\n",
       "      <th>3166</th>\n",
       "      <td>PRTS</td>\n",
       "      <td>U.S. Auto Parts Network, Inc.</td>\n",
       "      <td>1.0300</td>\n",
       "      <td>$36.47M</td>\n",
       "      <td>2007.0</td>\n",
       "      <td>Consumer Services</td>\n",
       "      <td>Other Specialty Stores</td>\n",
       "      <td>https://www.nasdaq.com/symbol/prts</td>\n",
       "      <td>NaN</td>\n",
       "    </tr>\n",
       "    <tr>\n",
       "      <th>2908</th>\n",
       "      <td>STND</td>\n",
       "      <td>Standard AVB Financial Corp.</td>\n",
       "      <td>27.8000</td>\n",
       "      <td>$133.99M</td>\n",
       "      <td>NaN</td>\n",
       "      <td>Finance</td>\n",
       "      <td>Major Banks</td>\n",
       "      <td>https://www.nasdaq.com/symbol/stnd</td>\n",
       "      <td>NaN</td>\n",
       "    </tr>\n",
       "    <tr>\n",
       "      <th>2220</th>\n",
       "      <td>NTGN</td>\n",
       "      <td>Neon Therapeutics, Inc.</td>\n",
       "      <td>6.7100</td>\n",
       "      <td>$190.1M</td>\n",
       "      <td>2018.0</td>\n",
       "      <td>Health Care</td>\n",
       "      <td>Biotechnology: Biological Products (No Diagnos...</td>\n",
       "      <td>https://www.nasdaq.com/symbol/ntgn</td>\n",
       "      <td>NaN</td>\n",
       "    </tr>\n",
       "    <tr>\n",
       "      <th>2347</th>\n",
       "      <td>OMED</td>\n",
       "      <td>OncoMed Pharmaceuticals, Inc.</td>\n",
       "      <td>0.9164</td>\n",
       "      <td>$35.46M</td>\n",
       "      <td>2013.0</td>\n",
       "      <td>Health Care</td>\n",
       "      <td>Major Pharmaceuticals</td>\n",
       "      <td>https://www.nasdaq.com/symbol/omed</td>\n",
       "      <td>NaN</td>\n",
       "    </tr>\n",
       "    <tr>\n",
       "      <th>758</th>\n",
       "      <td>CWCO</td>\n",
       "      <td>Consolidated Water Co. Ltd.</td>\n",
       "      <td>12.5400</td>\n",
       "      <td>$188.22M</td>\n",
       "      <td>NaN</td>\n",
       "      <td>Public Utilities</td>\n",
       "      <td>Water Supply</td>\n",
       "      <td>https://www.nasdaq.com/symbol/cwco</td>\n",
       "      <td>NaN</td>\n",
       "    </tr>\n",
       "    <tr>\n",
       "      <th>3286</th>\n",
       "      <td>VRRM</td>\n",
       "      <td>Verra Mobility Corporation</td>\n",
       "      <td>13.1000</td>\n",
       "      <td>$2.04B</td>\n",
       "      <td>2017.0</td>\n",
       "      <td>Consumer Services</td>\n",
       "      <td>Transportation Services</td>\n",
       "      <td>https://www.nasdaq.com/symbol/vrrm</td>\n",
       "      <td>NaN</td>\n",
       "    </tr>\n",
       "    <tr>\n",
       "      <th>232</th>\n",
       "      <td>AQB</td>\n",
       "      <td>AquaBounty Technologies, Inc.</td>\n",
       "      <td>2.2800</td>\n",
       "      <td>$48.45M</td>\n",
       "      <td>NaN</td>\n",
       "      <td>NaN</td>\n",
       "      <td>NaN</td>\n",
       "      <td>https://www.nasdaq.com/symbol/aqb</td>\n",
       "      <td>NaN</td>\n",
       "    </tr>\n",
       "    <tr>\n",
       "      <th>797</th>\n",
       "      <td>CACC</td>\n",
       "      <td>Credit Acceptance Corporation</td>\n",
       "      <td>458.9700</td>\n",
       "      <td>$8.62B</td>\n",
       "      <td>1992.0</td>\n",
       "      <td>Finance</td>\n",
       "      <td>Finance: Consumer Services</td>\n",
       "      <td>https://www.nasdaq.com/symbol/cacc</td>\n",
       "      <td>NaN</td>\n",
       "    </tr>\n",
       "    <tr>\n",
       "      <th>1106</th>\n",
       "      <td>FTACW</td>\n",
       "      <td>FinTech Acquisition Corp. III</td>\n",
       "      <td>1.0785</td>\n",
       "      <td>NaN</td>\n",
       "      <td>2019.0</td>\n",
       "      <td>Finance</td>\n",
       "      <td>Business Services</td>\n",
       "      <td>https://www.nasdaq.com/symbol/ftacw</td>\n",
       "      <td>NaN</td>\n",
       "    </tr>\n",
       "    <tr>\n",
       "      <th>2045</th>\n",
       "      <td>MDRR</td>\n",
       "      <td>Medalist Diversified REIT, Inc.</td>\n",
       "      <td>7.0000</td>\n",
       "      <td>$16.25M</td>\n",
       "      <td>2018.0</td>\n",
       "      <td>Consumer Services</td>\n",
       "      <td>Real Estate Investment Trusts</td>\n",
       "      <td>https://www.nasdaq.com/symbol/mdrr</td>\n",
       "      <td>NaN</td>\n",
       "    </tr>\n",
       "    <tr>\n",
       "      <th>1444</th>\n",
       "      <td>GVP</td>\n",
       "      <td>GSE Systems, Inc.</td>\n",
       "      <td>2.7300</td>\n",
       "      <td>$54.14M</td>\n",
       "      <td>NaN</td>\n",
       "      <td>Technology</td>\n",
       "      <td>Computer Software: Prepackaged Software</td>\n",
       "      <td>https://www.nasdaq.com/symbol/gvp</td>\n",
       "      <td>NaN</td>\n",
       "    </tr>\n",
       "    <tr>\n",
       "      <th>2207</th>\n",
       "      <td>JSM</td>\n",
       "      <td>Navient Corporation</td>\n",
       "      <td>21.6200</td>\n",
       "      <td>NaN</td>\n",
       "      <td>NaN</td>\n",
       "      <td>Finance</td>\n",
       "      <td>Finance: Consumer Services</td>\n",
       "      <td>https://www.nasdaq.com/symbol/jsm</td>\n",
       "      <td>NaN</td>\n",
       "    </tr>\n",
       "    <tr>\n",
       "      <th>409</th>\n",
       "      <td>BHTG</td>\n",
       "      <td>BioHiTech Global, Inc.</td>\n",
       "      <td>2.6500</td>\n",
       "      <td>$39.28M</td>\n",
       "      <td>NaN</td>\n",
       "      <td>Consumer Services</td>\n",
       "      <td>Other Consumer Services</td>\n",
       "      <td>https://www.nasdaq.com/symbol/bhtg</td>\n",
       "      <td>NaN</td>\n",
       "    </tr>\n",
       "    <tr>\n",
       "      <th>2223</th>\n",
       "      <td>NVCN</td>\n",
       "      <td>Neovasc Inc.</td>\n",
       "      <td>0.4236</td>\n",
       "      <td>$26.26M</td>\n",
       "      <td>NaN</td>\n",
       "      <td>Health Care</td>\n",
       "      <td>Medical/Dental Instruments</td>\n",
       "      <td>https://www.nasdaq.com/symbol/nvcn</td>\n",
       "      <td>NaN</td>\n",
       "    </tr>\n",
       "    <tr>\n",
       "      <th>2460</th>\n",
       "      <td>PVAC</td>\n",
       "      <td>Penn Virginia Corporation</td>\n",
       "      <td>43.0200</td>\n",
       "      <td>$649.83M</td>\n",
       "      <td>NaN</td>\n",
       "      <td>Energy</td>\n",
       "      <td>Oil &amp; Gas Production</td>\n",
       "      <td>https://www.nasdaq.com/symbol/pvac</td>\n",
       "      <td>NaN</td>\n",
       "    </tr>\n",
       "    <tr>\n",
       "      <th>89</th>\n",
       "      <td>AIRT</td>\n",
       "      <td>Air T, Inc.</td>\n",
       "      <td>27.7001</td>\n",
       "      <td>$56.07M</td>\n",
       "      <td>NaN</td>\n",
       "      <td>Transportation</td>\n",
       "      <td>Air Freight/Delivery Services</td>\n",
       "      <td>https://www.nasdaq.com/symbol/airt</td>\n",
       "      <td>NaN</td>\n",
       "    </tr>\n",
       "    <tr>\n",
       "      <th>42</th>\n",
       "      <td>ATVI</td>\n",
       "      <td>Activision Blizzard, Inc</td>\n",
       "      <td>47.2800</td>\n",
       "      <td>$36.11B</td>\n",
       "      <td>NaN</td>\n",
       "      <td>Technology</td>\n",
       "      <td>Computer Software: Prepackaged Software</td>\n",
       "      <td>https://www.nasdaq.com/symbol/atvi</td>\n",
       "      <td>NaN</td>\n",
       "    </tr>\n",
       "    <tr>\n",
       "      <th>3234</th>\n",
       "      <td>BBH</td>\n",
       "      <td>VanEck Vectors Biotech ETF</td>\n",
       "      <td>128.3400</td>\n",
       "      <td>$403.82M</td>\n",
       "      <td>NaN</td>\n",
       "      <td>NaN</td>\n",
       "      <td>NaN</td>\n",
       "      <td>https://www.nasdaq.com/symbol/bbh</td>\n",
       "      <td>NaN</td>\n",
       "    </tr>\n",
       "    <tr>\n",
       "      <th>1995</th>\n",
       "      <td>MBTF</td>\n",
       "      <td>M B T Financial Corp</td>\n",
       "      <td>10.7900</td>\n",
       "      <td>$248.57M</td>\n",
       "      <td>NaN</td>\n",
       "      <td>Finance</td>\n",
       "      <td>Major Banks</td>\n",
       "      <td>https://www.nasdaq.com/symbol/mbtf</td>\n",
       "      <td>NaN</td>\n",
       "    </tr>\n",
       "    <tr>\n",
       "      <th>2245</th>\n",
       "      <td>NEWA</td>\n",
       "      <td>Newater Technology, Inc.</td>\n",
       "      <td>7.7299</td>\n",
       "      <td>$83.55M</td>\n",
       "      <td>2017.0</td>\n",
       "      <td>Basic Industries</td>\n",
       "      <td>Miscellaneous</td>\n",
       "      <td>https://www.nasdaq.com/symbol/newa</td>\n",
       "      <td>NaN</td>\n",
       "    </tr>\n",
       "    <tr>\n",
       "      <th>1525</th>\n",
       "      <td>HOMB</td>\n",
       "      <td>Home BancShares, Inc.</td>\n",
       "      <td>18.9500</td>\n",
       "      <td>$3.2B</td>\n",
       "      <td>2006.0</td>\n",
       "      <td>Finance</td>\n",
       "      <td>Major Banks</td>\n",
       "      <td>https://www.nasdaq.com/symbol/homb</td>\n",
       "      <td>NaN</td>\n",
       "    </tr>\n",
       "  </tbody>\n",
       "</table>\n",
       "</div>"
      ],
      "text/plain": [
       "     Symbol                                     Name  LastSale MarketCap  \\\n",
       "1661   INTU                              Intuit Inc.  260.0600   $67.37B   \n",
       "1086   FNHC                   FedNat Holding Company   16.9300  $216.44M   \n",
       "2586    PMD                 Psychemedics Corporation   14.4800   $79.75M   \n",
       "753    CNMD                       CONMED Corporation   83.1800    $2.34B   \n",
       "2383   ORRF          Orrstown Financial Services Inc   19.1900  $181.96M   \n",
       "3306    CFA  VictoryShares US 500 Volatility Wtd ETF   51.7813  $714.56M   \n",
       "2398   OVID                   Ovid Therapeutics Inc.    1.8300   $70.73M   \n",
       "3450  ZIONW                Zions Bancorporation N.A.   15.9900       NaN   \n",
       "2333   ODFL          Old Dominion Freight Line, Inc.  153.7400   $12.48B   \n",
       "3166   PRTS            U.S. Auto Parts Network, Inc.    1.0300   $36.47M   \n",
       "2908   STND             Standard AVB Financial Corp.   27.8000  $133.99M   \n",
       "2220   NTGN                  Neon Therapeutics, Inc.    6.7100   $190.1M   \n",
       "2347   OMED            OncoMed Pharmaceuticals, Inc.    0.9164   $35.46M   \n",
       "758    CWCO              Consolidated Water Co. Ltd.   12.5400  $188.22M   \n",
       "3286   VRRM               Verra Mobility Corporation   13.1000    $2.04B   \n",
       "232     AQB            AquaBounty Technologies, Inc.    2.2800   $48.45M   \n",
       "797    CACC            Credit Acceptance Corporation  458.9700    $8.62B   \n",
       "1106  FTACW            FinTech Acquisition Corp. III    1.0785       NaN   \n",
       "2045   MDRR          Medalist Diversified REIT, Inc.    7.0000   $16.25M   \n",
       "1444    GVP                        GSE Systems, Inc.    2.7300   $54.14M   \n",
       "2207    JSM                      Navient Corporation   21.6200       NaN   \n",
       "409    BHTG                   BioHiTech Global, Inc.    2.6500   $39.28M   \n",
       "2223   NVCN                             Neovasc Inc.    0.4236   $26.26M   \n",
       "2460   PVAC                Penn Virginia Corporation   43.0200  $649.83M   \n",
       "89     AIRT                              Air T, Inc.   27.7001   $56.07M   \n",
       "42     ATVI                 Activision Blizzard, Inc   47.2800   $36.11B   \n",
       "3234    BBH               VanEck Vectors Biotech ETF  128.3400  $403.82M   \n",
       "1995   MBTF                     M B T Financial Corp   10.7900  $248.57M   \n",
       "2245   NEWA                 Newater Technology, Inc.    7.7299   $83.55M   \n",
       "1525   HOMB                    Home BancShares, Inc.   18.9500     $3.2B   \n",
       "\n",
       "      IPOyear             Sector  \\\n",
       "1661   1993.0         Technology   \n",
       "1086      NaN            Finance   \n",
       "2586      NaN        Health Care   \n",
       "753    1987.0        Health Care   \n",
       "2383      NaN            Finance   \n",
       "3306      NaN                NaN   \n",
       "2398   2017.0        Health Care   \n",
       "3450      NaN            Finance   \n",
       "2333   1991.0     Transportation   \n",
       "3166   2007.0  Consumer Services   \n",
       "2908      NaN            Finance   \n",
       "2220   2018.0        Health Care   \n",
       "2347   2013.0        Health Care   \n",
       "758       NaN   Public Utilities   \n",
       "3286   2017.0  Consumer Services   \n",
       "232       NaN                NaN   \n",
       "797    1992.0            Finance   \n",
       "1106   2019.0            Finance   \n",
       "2045   2018.0  Consumer Services   \n",
       "1444      NaN         Technology   \n",
       "2207      NaN            Finance   \n",
       "409       NaN  Consumer Services   \n",
       "2223      NaN        Health Care   \n",
       "2460      NaN             Energy   \n",
       "89        NaN     Transportation   \n",
       "42        NaN         Technology   \n",
       "3234      NaN                NaN   \n",
       "1995      NaN            Finance   \n",
       "2245   2017.0   Basic Industries   \n",
       "1525   2006.0            Finance   \n",
       "\n",
       "                                               industry  \\\n",
       "1661            Computer Software: Prepackaged Software   \n",
       "1086                         Property-Casualty Insurers   \n",
       "2586                               Medical Specialities   \n",
       "753   Biotechnology: Electromedical & Electrotherape...   \n",
       "2383                                        Major Banks   \n",
       "3306                                                NaN   \n",
       "2398                              Major Pharmaceuticals   \n",
       "3450                                        Major Banks   \n",
       "2333                  Trucking Freight/Courier Services   \n",
       "3166                             Other Specialty Stores   \n",
       "2908                                        Major Banks   \n",
       "2220  Biotechnology: Biological Products (No Diagnos...   \n",
       "2347                              Major Pharmaceuticals   \n",
       "758                                        Water Supply   \n",
       "3286                            Transportation Services   \n",
       "232                                                 NaN   \n",
       "797                          Finance: Consumer Services   \n",
       "1106                                  Business Services   \n",
       "2045                      Real Estate Investment Trusts   \n",
       "1444            Computer Software: Prepackaged Software   \n",
       "2207                         Finance: Consumer Services   \n",
       "409                             Other Consumer Services   \n",
       "2223                         Medical/Dental Instruments   \n",
       "2460                               Oil & Gas Production   \n",
       "89                        Air Freight/Delivery Services   \n",
       "42              Computer Software: Prepackaged Software   \n",
       "3234                                                NaN   \n",
       "1995                                        Major Banks   \n",
       "2245                                      Miscellaneous   \n",
       "1525                                        Major Banks   \n",
       "\n",
       "                            Summary Quote  Unnamed: 8  \n",
       "1661   https://www.nasdaq.com/symbol/intu         NaN  \n",
       "1086   https://www.nasdaq.com/symbol/fnhc         NaN  \n",
       "2586    https://www.nasdaq.com/symbol/pmd         NaN  \n",
       "753    https://www.nasdaq.com/symbol/cnmd         NaN  \n",
       "2383   https://www.nasdaq.com/symbol/orrf         NaN  \n",
       "3306    https://www.nasdaq.com/symbol/cfa         NaN  \n",
       "2398   https://www.nasdaq.com/symbol/ovid         NaN  \n",
       "3450  https://www.nasdaq.com/symbol/zionw         NaN  \n",
       "2333   https://www.nasdaq.com/symbol/odfl         NaN  \n",
       "3166   https://www.nasdaq.com/symbol/prts         NaN  \n",
       "2908   https://www.nasdaq.com/symbol/stnd         NaN  \n",
       "2220   https://www.nasdaq.com/symbol/ntgn         NaN  \n",
       "2347   https://www.nasdaq.com/symbol/omed         NaN  \n",
       "758    https://www.nasdaq.com/symbol/cwco         NaN  \n",
       "3286   https://www.nasdaq.com/symbol/vrrm         NaN  \n",
       "232     https://www.nasdaq.com/symbol/aqb         NaN  \n",
       "797    https://www.nasdaq.com/symbol/cacc         NaN  \n",
       "1106  https://www.nasdaq.com/symbol/ftacw         NaN  \n",
       "2045   https://www.nasdaq.com/symbol/mdrr         NaN  \n",
       "1444    https://www.nasdaq.com/symbol/gvp         NaN  \n",
       "2207    https://www.nasdaq.com/symbol/jsm         NaN  \n",
       "409    https://www.nasdaq.com/symbol/bhtg         NaN  \n",
       "2223   https://www.nasdaq.com/symbol/nvcn         NaN  \n",
       "2460   https://www.nasdaq.com/symbol/pvac         NaN  \n",
       "89     https://www.nasdaq.com/symbol/airt         NaN  \n",
       "42     https://www.nasdaq.com/symbol/atvi         NaN  \n",
       "3234    https://www.nasdaq.com/symbol/bbh         NaN  \n",
       "1995   https://www.nasdaq.com/symbol/mbtf         NaN  \n",
       "2245   https://www.nasdaq.com/symbol/newa         NaN  \n",
       "1525   https://www.nasdaq.com/symbol/homb         NaN  "
      ]
     },
     "execution_count": 106,
     "metadata": {},
     "output_type": "execute_result"
    }
   ],
   "source": [
    "complist.sample(30)"
   ]
  },
  {
   "cell_type": "markdown",
   "metadata": {},
   "source": [
    "С источниками новостей, конечно, беда. Все новостные сайты стараются сделать это как можно более сложной задачей. \n",
    "Но на насдаке новости можно выкачать с помощью BeautifulSoup!\n",
    "Как скачивать с насдака придумали до меня. \n",
    "Ниже код не мой! \n",
    "Взят отсюда http://theautomatic.net/2017/08/24/scraping-articles-about-stocks/"
   ]
  },
  {
   "cell_type": "code",
   "execution_count": 269,
   "metadata": {},
   "outputs": [],
   "source": [
    "### FROM: http://theautomatic.net/2017/08/24/scraping-articles-about-stocks/\n",
    "from bs4 import BeautifulSoup\n",
    " \n",
    "site = 'http://www.nasdaq.com/symbol/nflx/news-headlines'"
   ]
  },
  {
   "cell_type": "code",
   "execution_count": 245,
   "metadata": {},
   "outputs": [
    {
     "data": {
      "text/plain": [
       "216"
      ]
     },
     "execution_count": 245,
     "metadata": {},
     "output_type": "execute_result"
    }
   ],
   "source": [
    "'''scrape the html of the site'''\n",
    "html = requests.get(site).content\n",
    " \n",
    "'''convert html to BeautifulSoup object'''\n",
    "soup = BeautifulSoup(html , 'lxml')\n",
    " \n",
    "'''get list of all links on webpage'''\n",
    "links = soup.find_all('a')\n",
    " \n",
    "urls = [link.get('href') for link in links]\n",
    "urls = [url for url in urls if url is not None]\n",
    " \n",
    "len(urls)"
   ]
  },
  {
   "cell_type": "code",
   "execution_count": 246,
   "metadata": {},
   "outputs": [
    {
     "data": {
      "text/plain": [
       "16"
      ]
     },
     "execution_count": 246,
     "metadata": {},
     "output_type": "execute_result"
    }
   ],
   "source": [
    "'''Filter the list of urls to just the news articles'''\n",
    "news_urls = [url for url in urls if '/article/' in url]\n",
    " \n",
    "len(news_urls)"
   ]
  },
  {
   "cell_type": "code",
   "execution_count": 250,
   "metadata": {},
   "outputs": [],
   "source": [
    "'''Package what we did above into a function'''\n",
    "def scrape_news_text(news_url):\n",
    " \n",
    "    news_html = requests.get(news_url).content\n",
    " \n",
    "    '''convert html to BeautifulSoup object'''\n",
    "    news_soup = BeautifulSoup(news_html , 'lxml')\n",
    " \n",
    "    paragraphs = [par.text for par in news_soup.find_all('p')]\n",
    "    news_text = '\\n'.join(paragraphs)\n",
    " \n",
    "    return news_text"
   ]
  },
  {
   "cell_type": "code",
   "execution_count": 247,
   "metadata": {},
   "outputs": [],
   "source": [
    "'''Generalized function to get all news-related articles from a Nasdaq webpage'''\n",
    "def get_news_urls(links_site):\n",
    "    '''scrape the html of the site'''\n",
    "    resp = requests.get(links_site)\n",
    " \n",
    "    if not resp.ok:\n",
    "        return None\n",
    " \n",
    "    html = resp.content\n",
    " \n",
    "    '''convert html to BeautifulSoup object'''\n",
    "    soup = BeautifulSoup(html , 'lxml')\n",
    " \n",
    "    '''get list of all links on webpage'''\n",
    "    links = soup.find_all('a')\n",
    " \n",
    "    urls = [link.get('href') for link in links]\n",
    "    urls = [url for url in urls if url is not None]\n",
    " \n",
    "    '''Filter the list of urls to just the news articles'''\n",
    "    news_urls = [url for url in urls if '/article/' in url]\n",
    " \n",
    "    return news_urls"
   ]
  },
  {
   "cell_type": "code",
   "execution_count": 248,
   "metadata": {},
   "outputs": [],
   "source": [
    "def scrape_all_articles(ticker , upper_page_limit = 5):\n",
    " \n",
    "    landing_site = 'http://www.nasdaq.com/symbol/' + ticker + '/news-headlines'\n",
    " \n",
    "    all_news_urls = get_news_urls(landing_site)\n",
    " \n",
    "    current_urls_list = all_news_urls.copy()\n",
    " \n",
    "    index = 2\n",
    " \n",
    "    '''Loop through each sequential page, scraping the links from each'''\n",
    "    while (current_urls_list is not None) and (current_urls_list != []) and \\\n",
    "        (index <= upper_page_limit):\n",
    " \n",
    "        '''Construct URL for page in loop based off index'''\n",
    "        current_site = landing_site + '?page=' + str(index)\n",
    "        current_urls_list = get_news_urls(current_site)\n",
    " \n",
    "        '''Append current webpage's list of urls to all_news_urls'''\n",
    "        all_news_urls = all_news_urls + current_urls_list\n",
    " \n",
    "        index = index + 1\n",
    " \n",
    "    all_news_urls = list(set(all_news_urls))\n",
    " \n",
    "    '''Now, we have a list of urls, we need to actually scrape the text'''\n",
    "    all_articles = [scrape_news_text(news_url) for news_url in all_news_urls]\n",
    " \n",
    "    return all_articles\n"
   ]
  },
  {
   "cell_type": "code",
   "execution_count": 270,
   "metadata": {},
   "outputs": [
    {
     "name": "stdout",
     "output_type": "stream",
     "text": [
      "Join the Nasdaq Community today and get free, instant access to portfolios, stock ratings, real-time alerts, and more!\n",
      " \n",
      "After the market close last Thursday,   Disney    (NYSE: DIS)    unveiled details    about its long-awaited streaming service, Disney+. When the   market opened on Friday, investors bid shares up 11.5% to an   all-time high. At the same time,   Netflix    (NASDAQ: NFLX) saw its stock fall 4.5%. It looks like Wall Street   thinks Disney+ has the potential to challenge the streaming   leader in the direct-to-consumer market.\n",
      "Netflix currently boasts about 139 million paid subscribers   worldwide and is expecting to add another 9 million more when   the company reports earnings    on Tuesday. With this type of lead, Disney has its work cut   out for it when it comes to taking on the incumbent. But the   House of Mouse has several distinct advantages that make it an   immediate contender.\n",
      "Let's take a look at three reasons why investors are so   optimistic about Disney's potential.\n",
      "  \n",
      "The Disney Signature Collection will be available at launch     for Disney+. Image source: Disney.\n",
      "Netflix has long shown the pricing power of its service. The   company recently instituted its   fourth price hike in five years    and its subscriber base continues to swell. It's important to   remember, however, that with growth in its domestic market   slowing, future growth lies in international locales. The cost of   a monthly Netflix subscription has grown to $12.99, which might   be prohibitive in many developing countries.\n",
      "Disney decided to price its offering at $6.99 per month, or an   even more reasonable annual subscription of $69.99 -- which works   out to a monthly cost of about $5.83 -- when its service debuts   on Nov. 12. At nearly half the cost of a Netflix membership,   cash-strapped viewers around the world might choose Disney if   they can only afford to choose one.\n",
      "Netflix is likely aware of this limitation and has reportedly   been testing a lower-price, mobile-only subscription in some   developing countries. But, thus far, it's only been a test.\n",
      "While Netflix is quickly making a name for itself, it only   began its international expansion in 2010 when it started   offering streaming video in Canada. The big roll-out for the   company came in early 2016 when Netflix announced that it would   immediately be available in 190 countries.\n",
      "Disney, on the other hand, has long been a household name, and   Mickey is among the most recognizable characters in the world. In   2016, just as Netflix was making its debut globally, Disney was   named the world's most powerful brand, according to brand   valuation and strategy consultancy Brand Finance. Many   subsequent studies have consistently placed Disney among the most   well-known and   most beloved brands    . With a host of instantly recognized studio offerings from the   likes of Pixar, Marvel, and Lucasfilm, this will give Disney a   leg up as it seeks to chase down the video-streaming leader.\n",
      "  \n",
      " Star Wars      series     The Mandalorian      will be exclusive to Disney+. Image source: Disney.\n",
      "Netflix moved quickly to begin creating its own content in   2013, but Disney has a library of intellectual property going   back 90 years. In addition to the company's catalog of   feature films, Disney also has decades of programming from Disney   Television Studios and The Disney Channel (its cable TV   offering).\n",
      "It doesn't stop there. Disney is a content-creation machine,   churning out new movies and programs every year. This isn't just   filler. It includes box-office blockbusters like    Black Panther     and    Avengers: Infinity War     from Marvel,   Star Wars: The Force Awakens    and   Star Wars: The Last Jedi    from Lucasfilm,   Finding Dory    and   Incredibles 2    from Pixar, and   Zootopia    and   Beauty and the Beast    from Disney. The recent acquisition of Fox content only serves to   increase its advantage. For instance, the company announced that   all 30 seasons of   The Simpsons    will appear exclusively on Disney+.\n",
      "While Netflix has largely stuck to monetizing its content with   subscriber fees, Disney has a host of ways to make money from its   hit movies and television series. For example, once a movie has   been shown in theaters, consumers buy the film on Blu-ray and/or   digital copy; visit Broadway shows and other live productions;   buy plush toys, coffee mugs, and other consumer products; and   visit Disney theme parks around the world to interact with their   favorite characters. For Disney, content is the gift that keeps   on giving.\n",
      "It's important to remember that this isn't a zero-sum game and   there's room for multiple winners in the nascent streaming   industry. There are more than 1 billion global fixed-broadband   subscribers and many more accessing the internet via mobile   devices. The arrival of data-friendly   5G wireless technology    will only accelerate broadband adoption. Streaming will be a huge   and growing market that can easily support multiple players.\n",
      "That said, Disney has several compelling advantages that will   make it a serious contender in the over-the-top market.\n",
      " \n",
      " Find out why Netflix is one of the 10 best stocks to buy now \n",
      "Motley Fool co-founders Tom and David Gardner have spent     more than a decade beating the market. After all, the     newsletter they have run for over a decade,     Motley Fool Stock Advisor      , has quadrupled the market.*\n",
      "Tom and David just revealed their ten top stock picks for     investors to buy right now. Netflix     is on the list      -- but there are nine others you may be overlooking.\n",
      " Click here to get access to the full       list! \n",
      " *Stock Advisor returns as of March 1, 2019 \n",
      "  Danny Vena      owns shares of Netflix and Walt Disney and has the following     options: long January 2021 $85 calls on Walt Disney. The Motley     Fool owns shares of and recommends Netflix and Walt Disney. The     Motley Fool has a     disclosure policy      . \n",
      "\n",
      "The views and opinions expressed herein are the views and opinions of the author and do not necessarily reflect those of Nasdaq, Inc.\n",
      "\n",
      "\n",
      "\n",
      "\n",
      "Enter up to 25 symbols separated by commas or spaces in the text box below. These symbols will be available during your session for use on applicable pages.\n",
      "\n",
      "\t\t\t\t\tYou have selected to change your default setting for the Quote Search. This will now be your default target page;\n",
      "\t\t\t\t\tunless you change your configuration again, or you delete your\n",
      "\t\t\t\t\tcookies. Are you sure you want to change your settings?\n",
      "\n",
      "Please disable your ad blocker (or update your settings to ensure that javascript and cookies are enabled), so that we can continue to provide you with the first-rate market news and data you've come to expect from us.\n",
      "\n"
     ]
    }
   ],
   "source": [
    "nflx_articles = scrape_all_articles('nflx' , 5)\n",
    " \n",
    "print(nflx_articles[5])\n",
    "\n",
    "### END FROM http://theautomatic.net/2017/08/24/scraping-articles-about-stocks/"
   ]
  },
  {
   "cell_type": "code",
   "execution_count": 261,
   "metadata": {},
   "outputs": [
    {
     "data": {
      "text/plain": [
       "['more!',\n",
       " 'After',\n",
       " 'the',\n",
       " 'market',\n",
       " 'close',\n",
       " 'last',\n",
       " 'Thursday,',\n",
       " 'Disney',\n",
       " '(NYSE:',\n",
       " 'DIS)',\n",
       " 'unveiled',\n",
       " 'details',\n",
       " 'about',\n",
       " 'its',\n",
       " 'long-awaited',\n",
       " 'streaming',\n",
       " 'service,',\n",
       " 'Disney+.',\n",
       " 'When',\n",
       " 'the',\n",
       " 'market',\n",
       " 'opened',\n",
       " 'on',\n",
       " 'Friday,',\n",
       " 'investors',\n",
       " 'bid',\n",
       " 'shares',\n",
       " 'up',\n",
       " '11.5%',\n",
       " 'to',\n",
       " 'an',\n",
       " 'all-time',\n",
       " 'high.',\n",
       " 'At',\n",
       " 'the',\n",
       " 'same',\n",
       " 'time,',\n",
       " 'Netflix',\n",
       " '(NASDAQ:',\n",
       " 'NFLX)',\n",
       " 'saw',\n",
       " 'its',\n",
       " 'stock',\n",
       " 'fall',\n",
       " '4.5%.',\n",
       " 'It',\n",
       " 'looks',\n",
       " 'like',\n",
       " 'Wall',\n",
       " 'Street',\n",
       " 'thinks',\n",
       " 'Disney+',\n",
       " 'has',\n",
       " 'the',\n",
       " 'potential',\n",
       " 'to',\n",
       " 'challenge',\n",
       " 'the',\n",
       " 'streaming',\n",
       " 'leader',\n",
       " 'in',\n",
       " 'the',\n",
       " 'direct-to-consumer']"
      ]
     },
     "execution_count": 261,
     "metadata": {},
     "output_type": "execute_result"
    }
   ],
   "source": [
    "nflx_articles[5].split()[17:80]"
   ]
  },
  {
   "cell_type": "markdown",
   "metadata": {},
   "source": [
    "Начинается мой код!"
   ]
  },
  {
   "cell_type": "code",
   "execution_count": 266,
   "metadata": {},
   "outputs": [],
   "source": [
    "score_d=[]\n",
    "for j in range(0,len(nflx_articles)):\n",
    "            vs=analyzer.polarity_scores(''.join((nflx_articles[j].split()[17:80])))\n",
    "            score_d.append(vs['compound'])"
   ]
  },
  {
   "cell_type": "code",
   "execution_count": 267,
   "metadata": {},
   "outputs": [
    {
     "data": {
      "text/plain": [
       "[0.0,\n",
       " 0.0,\n",
       " 0.0,\n",
       " 0.0,\n",
       " 0.0,\n",
       " 0.0,\n",
       " 0.0,\n",
       " 0.0,\n",
       " 0.0,\n",
       " 0.0,\n",
       " 0.0,\n",
       " 0.0,\n",
       " 0.0,\n",
       " 0.0,\n",
       " 0.0,\n",
       " 0.0,\n",
       " 0.0,\n",
       " 0.0,\n",
       " 0.0,\n",
       " 0.0,\n",
       " 0.0,\n",
       " 0.0,\n",
       " 0.0,\n",
       " 0.0,\n",
       " 0.0,\n",
       " 0.0,\n",
       " 0.0,\n",
       " 0.0,\n",
       " 0.0,\n",
       " 0.0,\n",
       " 0.0,\n",
       " 0.0,\n",
       " 0.0,\n",
       " 0.0,\n",
       " 0.0,\n",
       " 0.0,\n",
       " 0.0,\n",
       " 0.0,\n",
       " 0.0,\n",
       " 0.0,\n",
       " 0.0,\n",
       " 0.0,\n",
       " 0.0,\n",
       " 0.0,\n",
       " 0.0,\n",
       " 0.0,\n",
       " 0.0,\n",
       " 0.0,\n",
       " 0.0,\n",
       " 0.0,\n",
       " 0.0,\n",
       " 0.0,\n",
       " 0.0]"
      ]
     },
     "execution_count": 267,
     "metadata": {},
     "output_type": "execute_result"
    }
   ],
   "source": [
    "score_d"
   ]
  },
  {
   "cell_type": "markdown",
   "metadata": {},
   "source": [
    "Как мы видим анализ не работает. Видимо новости подаются без особой эмоциональной окраски и тогда нам нужно будет использовать другие алгоритмы из NLP"
   ]
  },
  {
   "cell_type": "code",
   "execution_count": null,
   "metadata": {},
   "outputs": [],
   "source": []
  }
 ],
 "metadata": {
  "kernelspec": {
   "display_name": "Python 3",
   "language": "python",
   "name": "python3"
  },
  "language_info": {
   "codemirror_mode": {
    "name": "ipython",
    "version": 3
   },
   "file_extension": ".py",
   "mimetype": "text/x-python",
   "name": "python",
   "nbconvert_exporter": "python",
   "pygments_lexer": "ipython3",
   "version": "3.6.8"
  }
 },
 "nbformat": 4,
 "nbformat_minor": 2
}
